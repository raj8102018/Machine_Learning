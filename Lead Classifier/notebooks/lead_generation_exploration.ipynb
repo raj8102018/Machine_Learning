{
 "cells": [
  {
   "cell_type": "markdown",
   "metadata": {},
   "source": [
    "# Lead Classifier Using Pre-trained Transformers"
   ]
  },
  {
   "cell_type": "markdown",
   "metadata": {},
   "source": [
    "## Introduction"
   ]
  },
  {
   "cell_type": "markdown",
   "metadata": {},
   "source": [
    "The goal is to classify leads using pre-trained transformers, This approach uses embeddings from transformers and feeding them as inputs to feed forward network."
   ]
  },
  {
   "cell_type": "markdown",
   "metadata": {},
   "source": [
    "### Importing Required Libraries and Loading Data"
   ]
  },
  {
   "cell_type": "code",
   "execution_count": 1,
   "metadata": {},
   "outputs": [],
   "source": [
    "import pandas as pd\n",
    "import numpy as np\n",
    "import seaborn as sns\n",
    "import matplotlib.pyplot as plt"
   ]
  },
  {
   "cell_type": "code",
   "execution_count": 2,
   "metadata": {},
   "outputs": [],
   "source": [
    "import spacy\n",
    "from sklearn.feature_extraction.text import TfidfVectorizer, CountVectorizer\n",
    "nlp = spacy.load('en_core_web_sm')"
   ]
  },
  {
   "cell_type": "code",
   "execution_count": 3,
   "metadata": {},
   "outputs": [],
   "source": [
    "from sklearn.model_selection import train_test_split"
   ]
  },
  {
   "cell_type": "code",
   "execution_count": 4,
   "metadata": {},
   "outputs": [
    {
     "data": {
      "text/plain": [
       "'2.17.0'"
      ]
     },
     "execution_count": 4,
     "metadata": {},
     "output_type": "execute_result"
    }
   ],
   "source": [
    "import tensorflow as tf\n",
    "from tensorflow.keras import layers,models\n",
    "from tensorflow.keras import regularizers\n",
    "from tensorflow.keras.callbacks import EarlyStopping\n",
    "from tensorflow.keras.optimizers import Adam\n",
    "tf.__version__"
   ]
  },
  {
   "cell_type": "code",
   "execution_count": 5,
   "metadata": {},
   "outputs": [
    {
     "name": "stderr",
     "output_type": "stream",
     "text": [
      "d:\\Agents\\Lead_generator\\my_env\\Lib\\site-packages\\tqdm\\auto.py:21: TqdmWarning: IProgress not found. Please update jupyter and ipywidgets. See https://ipywidgets.readthedocs.io/en/stable/user_install.html\n",
      "  from .autonotebook import tqdm as notebook_tqdm\n",
      "d:\\Agents\\Lead_generator\\my_env\\Lib\\site-packages\\transformers\\tokenization_utils_base.py:1601: FutureWarning: `clean_up_tokenization_spaces` was not set. It will be set to `True` by default. This behavior will be depracted in transformers v4.45, and will be then set to `False` by default. For more details check this issue: https://github.com/huggingface/transformers/issues/31884\n",
      "  warnings.warn(\n"
     ]
    },
    {
     "name": "stdout",
     "output_type": "stream",
     "text": [
      "WARNING:tensorflow:From d:\\Agents\\Lead_generator\\my_env\\Lib\\site-packages\\tf_keras\\src\\losses.py:2976: The name tf.losses.sparse_softmax_cross_entropy is deprecated. Please use tf.compat.v1.losses.sparse_softmax_cross_entropy instead.\n",
      "\n",
      "WARNING:tensorflow:From d:\\Agents\\Lead_generator\\my_env\\Lib\\site-packages\\tf_keras\\src\\backend.py:873: The name tf.get_default_graph is deprecated. Please use tf.compat.v1.get_default_graph instead.\n",
      "\n"
     ]
    },
    {
     "name": "stderr",
     "output_type": "stream",
     "text": [
      "Some weights of the PyTorch model were not used when initializing the TF 2.0 model TFBertModel: ['cls.predictions.transform.dense.bias', 'cls.predictions.transform.LayerNorm.weight', 'cls.predictions.bias', 'cls.predictions.transform.LayerNorm.bias', 'cls.seq_relationship.bias', 'cls.predictions.transform.dense.weight', 'cls.seq_relationship.weight']\n",
      "- This IS expected if you are initializing TFBertModel from a PyTorch model trained on another task or with another architecture (e.g. initializing a TFBertForSequenceClassification model from a BertForPreTraining model).\n",
      "- This IS NOT expected if you are initializing TFBertModel from a PyTorch model that you expect to be exactly identical (e.g. initializing a TFBertForSequenceClassification model from a BertForSequenceClassification model).\n",
      "All the weights of TFBertModel were initialized from the PyTorch model.\n",
      "If your task is similar to the task the model of the checkpoint was trained on, you can already use TFBertModel for predictions without further training.\n"
     ]
    }
   ],
   "source": [
    "from transformers import AutoTokenizer, TFAutoModel\n",
    "tokenizer = AutoTokenizer.from_pretrained('bert-base-uncased')\n",
    "model = TFAutoModel.from_pretrained('bert-base-uncased')"
   ]
  },
  {
   "cell_type": "code",
   "execution_count": 6,
   "metadata": {},
   "outputs": [],
   "source": [
    "from keras.utils import to_categorical"
   ]
  },
  {
   "cell_type": "code",
   "execution_count": 7,
   "metadata": {},
   "outputs": [],
   "source": [
    "import imblearn\n",
    "from imblearn.over_sampling import SMOTE"
   ]
  },
  {
   "cell_type": "code",
   "execution_count": 8,
   "metadata": {},
   "outputs": [],
   "source": [
    "df = pd.read_csv('../data/raw/leads_dataset.csv', header = 0)"
   ]
  },
  {
   "cell_type": "markdown",
   "metadata": {},
   "source": [
    "### Data Exploration"
   ]
  },
  {
   "cell_type": "code",
   "execution_count": 9,
   "metadata": {},
   "outputs": [
    {
     "data": {
      "text/html": [
       "<div>\n",
       "<style scoped>\n",
       "    .dataframe tbody tr th:only-of-type {\n",
       "        vertical-align: middle;\n",
       "    }\n",
       "\n",
       "    .dataframe tbody tr th {\n",
       "        vertical-align: top;\n",
       "    }\n",
       "\n",
       "    .dataframe thead th {\n",
       "        text-align: right;\n",
       "    }\n",
       "</style>\n",
       "<table border=\"1\" class=\"dataframe\">\n",
       "  <thead>\n",
       "    <tr style=\"text-align: right;\">\n",
       "      <th></th>\n",
       "      <th>Company</th>\n",
       "      <th>Website</th>\n",
       "      <th>Industry</th>\n",
       "      <th>Address Street</th>\n",
       "      <th>City</th>\n",
       "      <th>State</th>\n",
       "      <th>Zip Code</th>\n",
       "      <th>Country</th>\n",
       "      <th>Contact Number</th>\n",
       "      <th>First Name</th>\n",
       "      <th>Last Name</th>\n",
       "      <th>Job Title</th>\n",
       "      <th>Email</th>\n",
       "      <th>Linkedin URL</th>\n",
       "    </tr>\n",
       "  </thead>\n",
       "  <tbody>\n",
       "    <tr>\n",
       "      <th>0</th>\n",
       "      <td>21st Century Healthcare, Inc</td>\n",
       "      <td>21stcenturyvitamins.com</td>\n",
       "      <td>Manufacturing</td>\n",
       "      <td>443 West Alameda Drive</td>\n",
       "      <td>Tempe</td>\n",
       "      <td>Arizona</td>\n",
       "      <td>85282</td>\n",
       "      <td>United States</td>\n",
       "      <td>1 480 966 1215</td>\n",
       "      <td>Leanne</td>\n",
       "      <td>Wilhardt</td>\n",
       "      <td>President</td>\n",
       "      <td>leannew@21stcenturyvitaminscom</td>\n",
       "      <td>https://wwwlinkedincom/in/leannewilhardt94513b15/</td>\n",
       "    </tr>\n",
       "    <tr>\n",
       "      <th>1</th>\n",
       "      <td>Aa Medical Store</td>\n",
       "      <td>aamedicalstore.com</td>\n",
       "      <td>Medical Equipment Manufacturing</td>\n",
       "      <td>2000 Nw 133Rd Ave #2Miami</td>\n",
       "      <td>Miami</td>\n",
       "      <td>Florida</td>\n",
       "      <td>33182</td>\n",
       "      <td>United States</td>\n",
       "      <td>1 786 409 2101</td>\n",
       "      <td>Ron</td>\n",
       "      <td>Plantz</td>\n",
       "      <td>Chief Executive Officer</td>\n",
       "      <td>ronplantz@authorizedacquisitionscom</td>\n",
       "      <td>https://wwwlinkedincom/in/ronplantz9a394319/</td>\n",
       "    </tr>\n",
       "    <tr>\n",
       "      <th>2</th>\n",
       "      <td>Ada Med Supply Limited</td>\n",
       "      <td>adamedicalsupply.com</td>\n",
       "      <td>Retail</td>\n",
       "      <td>NaN</td>\n",
       "      <td>Sandy Springs</td>\n",
       "      <td>Georgia</td>\n",
       "      <td>30328</td>\n",
       "      <td>United States</td>\n",
       "      <td>1 678 398 0505</td>\n",
       "      <td>Aniedi</td>\n",
       "      <td>James</td>\n",
       "      <td>President</td>\n",
       "      <td>aniedi@adamedicalsupplycom</td>\n",
       "      <td>https://wwwlinkedincom/in/aniedijames054a9585/</td>\n",
       "    </tr>\n",
       "    <tr>\n",
       "      <th>3</th>\n",
       "      <td>Advanced Instrumentations, Inc</td>\n",
       "      <td>advanced-inst.com</td>\n",
       "      <td>Biotechnology Research</td>\n",
       "      <td>6800 Nw 77Th Ct Miami</td>\n",
       "      <td>Miami</td>\n",
       "      <td>Florida</td>\n",
       "      <td>33166</td>\n",
       "      <td>United States</td>\n",
       "      <td>1 305 477 6331</td>\n",
       "      <td>Rafael</td>\n",
       "      <td>Celli</td>\n",
       "      <td>President</td>\n",
       "      <td>rafael@advancedinstcom</td>\n",
       "      <td>https://wwwlinkedincom/in/rafaelcellia97058163/</td>\n",
       "    </tr>\n",
       "    <tr>\n",
       "      <th>4</th>\n",
       "      <td>Aims Inc</td>\n",
       "      <td>aims1.com</td>\n",
       "      <td>Software Development</td>\n",
       "      <td>235 Desiard Street</td>\n",
       "      <td>Monroe</td>\n",
       "      <td>Los Angeles</td>\n",
       "      <td>71201</td>\n",
       "      <td>United States</td>\n",
       "      <td>1 318 323 2467</td>\n",
       "      <td>Robert</td>\n",
       "      <td>Canterbury</td>\n",
       "      <td>President</td>\n",
       "      <td>rcanterbury@aims1com</td>\n",
       "      <td>https://wwwlinkedincom/in/robertcanterburyaims/</td>\n",
       "    </tr>\n",
       "  </tbody>\n",
       "</table>\n",
       "</div>"
      ],
      "text/plain": [
       "                          Company                  Website  \\\n",
       "0    21st Century Healthcare, Inc  21stcenturyvitamins.com   \n",
       "1                Aa Medical Store       aamedicalstore.com   \n",
       "2          Ada Med Supply Limited     adamedicalsupply.com   \n",
       "3  Advanced Instrumentations, Inc        advanced-inst.com   \n",
       "4                        Aims Inc                aims1.com   \n",
       "\n",
       "                          Industry             Address Street           City  \\\n",
       "0                    Manufacturing     443 West Alameda Drive          Tempe   \n",
       "1  Medical Equipment Manufacturing  2000 Nw 133Rd Ave #2Miami          Miami   \n",
       "2                           Retail                        NaN  Sandy Springs   \n",
       "3           Biotechnology Research      6800 Nw 77Th Ct Miami          Miami   \n",
       "4             Software Development         235 Desiard Street         Monroe   \n",
       "\n",
       "         State  Zip Code        Country  Contact Number First Name  \\\n",
       "0      Arizona     85282  United States  1 480 966 1215     Leanne   \n",
       "1      Florida     33182  United States  1 786 409 2101        Ron   \n",
       "2      Georgia     30328  United States  1 678 398 0505     Aniedi   \n",
       "3      Florida     33166  United States  1 305 477 6331     Rafael   \n",
       "4  Los Angeles     71201  United States  1 318 323 2467     Robert   \n",
       "\n",
       "    Last Name                Job Title                                Email  \\\n",
       "0    Wilhardt                President       leannew@21stcenturyvitaminscom   \n",
       "1      Plantz  Chief Executive Officer  ronplantz@authorizedacquisitionscom   \n",
       "2       James                President           aniedi@adamedicalsupplycom   \n",
       "3       Celli                President               rafael@advancedinstcom   \n",
       "4  Canterbury                President                 rcanterbury@aims1com   \n",
       "\n",
       "                                        Linkedin URL  \n",
       "0  https://wwwlinkedincom/in/leannewilhardt94513b15/  \n",
       "1       https://wwwlinkedincom/in/ronplantz9a394319/  \n",
       "2     https://wwwlinkedincom/in/aniedijames054a9585/  \n",
       "3    https://wwwlinkedincom/in/rafaelcellia97058163/  \n",
       "4    https://wwwlinkedincom/in/robertcanterburyaims/  "
      ]
     },
     "execution_count": 9,
     "metadata": {},
     "output_type": "execute_result"
    }
   ],
   "source": [
    "df.head()"
   ]
  },
  {
   "cell_type": "code",
   "execution_count": 10,
   "metadata": {},
   "outputs": [
    {
     "data": {
      "text/plain": [
       "(101, 14)"
      ]
     },
     "execution_count": 10,
     "metadata": {},
     "output_type": "execute_result"
    }
   ],
   "source": [
    "df.shape"
   ]
  },
  {
   "cell_type": "code",
   "execution_count": 11,
   "metadata": {},
   "outputs": [
    {
     "name": "stdout",
     "output_type": "stream",
     "text": [
      "<class 'pandas.core.frame.DataFrame'>\n",
      "RangeIndex: 101 entries, 0 to 100\n",
      "Data columns (total 14 columns):\n",
      " #   Column          Non-Null Count  Dtype \n",
      "---  ------          --------------  ----- \n",
      " 0   Company         101 non-null    object\n",
      " 1   Website         101 non-null    object\n",
      " 2   Industry        101 non-null    object\n",
      " 3   Address Street  100 non-null    object\n",
      " 4   City            100 non-null    object\n",
      " 5   State           101 non-null    object\n",
      " 6   Zip Code        101 non-null    int64 \n",
      " 7   Country         101 non-null    object\n",
      " 8   Contact Number  101 non-null    object\n",
      " 9   First Name      101 non-null    object\n",
      " 10  Last Name       101 non-null    object\n",
      " 11  Job Title       101 non-null    object\n",
      " 12  Email           101 non-null    object\n",
      " 13  Linkedin URL    101 non-null    object\n",
      "dtypes: int64(1), object(13)\n",
      "memory usage: 11.2+ KB\n"
     ]
    }
   ],
   "source": [
    "df.info()"
   ]
  },
  {
   "cell_type": "code",
   "execution_count": 12,
   "metadata": {},
   "outputs": [
    {
     "data": {
      "text/plain": [
       "Company           0\n",
       "Website           0\n",
       "Industry          0\n",
       "Address Street    1\n",
       "City              1\n",
       "State             0\n",
       "Zip Code          0\n",
       "Country           0\n",
       "Contact Number    0\n",
       "First Name        0\n",
       "Last Name         0\n",
       "Job Title         0\n",
       "Email             0\n",
       "Linkedin URL      0\n",
       "dtype: int64"
      ]
     },
     "execution_count": 12,
     "metadata": {},
     "output_type": "execute_result"
    }
   ],
   "source": [
    "df.isnull().sum()"
   ]
  },
  {
   "cell_type": "code",
   "execution_count": 13,
   "metadata": {},
   "outputs": [
    {
     "data": {
      "text/plain": [
       "0"
      ]
     },
     "execution_count": 13,
     "metadata": {},
     "output_type": "execute_result"
    }
   ],
   "source": [
    "df.duplicated().sum()"
   ]
  },
  {
   "cell_type": "code",
   "execution_count": 14,
   "metadata": {},
   "outputs": [
    {
     "data": {
      "text/plain": [
       "Job Title\n",
       "Chief Executive Officer                       45\n",
       "President                                     27\n",
       "Founder                                        5\n",
       "General Manager                                4\n",
       "Vice President                                 3\n",
       "Owner                                          3\n",
       "Executive Director                             2\n",
       "Managing Director                              2\n",
       "Director                                       2\n",
       "CoOwner                                        1\n",
       "CoFounder                                      1\n",
       "Executive Vice President                       1\n",
       "Vice President Clinical Market Development     1\n",
       "Global Industry Director                       1\n",
       "International Director                         1\n",
       "Deputy Director                                1\n",
       "Vice President of Operations                   1\n",
       "Name: count, dtype: int64"
      ]
     },
     "execution_count": 14,
     "metadata": {},
     "output_type": "execute_result"
    }
   ],
   "source": [
    "df['Job Title'].value_counts()"
   ]
  },
  {
   "cell_type": "code",
   "execution_count": 15,
   "metadata": {},
   "outputs": [
    {
     "data": {
      "image/png": "[encoded data removed]",
      "text/plain": [
       "<Figure size 640x480 with 1 Axes>"
      ]
     },
     "metadata": {},
     "output_type": "display_data"
    }
   ],
   "source": [
    "sns.countplot(data=df, x= 'Job Title')\n",
    "plt.xlabel('Job Title')\n",
    "plt.xticks(rotation = 90)\n",
    "plt.ylabel('Count')\n",
    "plt.title('Lead distribution')\n",
    "plt.show()"
   ]
  },
  {
   "cell_type": "markdown",
   "metadata": {},
   "source": [
    "### Data Preprocessing Using Spacy"
   ]
  },
  {
   "cell_type": "code",
   "execution_count": 16,
   "metadata": {},
   "outputs": [],
   "source": [
    "df['Name'] = df['First Name']+ ' ' + df['Last Name']"
   ]
  },
  {
   "cell_type": "code",
   "execution_count": 17,
   "metadata": {},
   "outputs": [
    {
     "data": {
      "text/html": [
       "<div>\n",
       "<style scoped>\n",
       "    .dataframe tbody tr th:only-of-type {\n",
       "        vertical-align: middle;\n",
       "    }\n",
       "\n",
       "    .dataframe tbody tr th {\n",
       "        vertical-align: top;\n",
       "    }\n",
       "\n",
       "    .dataframe thead th {\n",
       "        text-align: right;\n",
       "    }\n",
       "</style>\n",
       "<table border=\"1\" class=\"dataframe\">\n",
       "  <thead>\n",
       "    <tr style=\"text-align: right;\">\n",
       "      <th></th>\n",
       "      <th>Name</th>\n",
       "      <th>Company</th>\n",
       "      <th>Website</th>\n",
       "      <th>Industry</th>\n",
       "      <th>Address Street</th>\n",
       "      <th>City</th>\n",
       "      <th>State</th>\n",
       "      <th>Zip Code</th>\n",
       "      <th>Country</th>\n",
       "      <th>Contact Number</th>\n",
       "      <th>First Name</th>\n",
       "      <th>Last Name</th>\n",
       "      <th>Job Title</th>\n",
       "      <th>Email</th>\n",
       "      <th>Linkedin URL</th>\n",
       "    </tr>\n",
       "  </thead>\n",
       "  <tbody>\n",
       "    <tr>\n",
       "      <th>0</th>\n",
       "      <td>Leanne Wilhardt</td>\n",
       "      <td>21st Century Healthcare, Inc</td>\n",
       "      <td>21stcenturyvitamins.com</td>\n",
       "      <td>Manufacturing</td>\n",
       "      <td>443 West Alameda Drive</td>\n",
       "      <td>Tempe</td>\n",
       "      <td>Arizona</td>\n",
       "      <td>85282</td>\n",
       "      <td>United States</td>\n",
       "      <td>1 480 966 1215</td>\n",
       "      <td>Leanne</td>\n",
       "      <td>Wilhardt</td>\n",
       "      <td>President</td>\n",
       "      <td>leannew@21stcenturyvitaminscom</td>\n",
       "      <td>https://wwwlinkedincom/in/leannewilhardt94513b15/</td>\n",
       "    </tr>\n",
       "    <tr>\n",
       "      <th>1</th>\n",
       "      <td>Ron Plantz</td>\n",
       "      <td>Aa Medical Store</td>\n",
       "      <td>aamedicalstore.com</td>\n",
       "      <td>Medical Equipment Manufacturing</td>\n",
       "      <td>2000 Nw 133Rd Ave #2Miami</td>\n",
       "      <td>Miami</td>\n",
       "      <td>Florida</td>\n",
       "      <td>33182</td>\n",
       "      <td>United States</td>\n",
       "      <td>1 786 409 2101</td>\n",
       "      <td>Ron</td>\n",
       "      <td>Plantz</td>\n",
       "      <td>Chief Executive Officer</td>\n",
       "      <td>ronplantz@authorizedacquisitionscom</td>\n",
       "      <td>https://wwwlinkedincom/in/ronplantz9a394319/</td>\n",
       "    </tr>\n",
       "    <tr>\n",
       "      <th>2</th>\n",
       "      <td>Aniedi James</td>\n",
       "      <td>Ada Med Supply Limited</td>\n",
       "      <td>adamedicalsupply.com</td>\n",
       "      <td>Retail</td>\n",
       "      <td>NaN</td>\n",
       "      <td>Sandy Springs</td>\n",
       "      <td>Georgia</td>\n",
       "      <td>30328</td>\n",
       "      <td>United States</td>\n",
       "      <td>1 678 398 0505</td>\n",
       "      <td>Aniedi</td>\n",
       "      <td>James</td>\n",
       "      <td>President</td>\n",
       "      <td>aniedi@adamedicalsupplycom</td>\n",
       "      <td>https://wwwlinkedincom/in/aniedijames054a9585/</td>\n",
       "    </tr>\n",
       "    <tr>\n",
       "      <th>3</th>\n",
       "      <td>Rafael Celli</td>\n",
       "      <td>Advanced Instrumentations, Inc</td>\n",
       "      <td>advanced-inst.com</td>\n",
       "      <td>Biotechnology Research</td>\n",
       "      <td>6800 Nw 77Th Ct Miami</td>\n",
       "      <td>Miami</td>\n",
       "      <td>Florida</td>\n",
       "      <td>33166</td>\n",
       "      <td>United States</td>\n",
       "      <td>1 305 477 6331</td>\n",
       "      <td>Rafael</td>\n",
       "      <td>Celli</td>\n",
       "      <td>President</td>\n",
       "      <td>rafael@advancedinstcom</td>\n",
       "      <td>https://wwwlinkedincom/in/rafaelcellia97058163/</td>\n",
       "    </tr>\n",
       "    <tr>\n",
       "      <th>4</th>\n",
       "      <td>Robert Canterbury</td>\n",
       "      <td>Aims Inc</td>\n",
       "      <td>aims1.com</td>\n",
       "      <td>Software Development</td>\n",
       "      <td>235 Desiard Street</td>\n",
       "      <td>Monroe</td>\n",
       "      <td>Los Angeles</td>\n",
       "      <td>71201</td>\n",
       "      <td>United States</td>\n",
       "      <td>1 318 323 2467</td>\n",
       "      <td>Robert</td>\n",
       "      <td>Canterbury</td>\n",
       "      <td>President</td>\n",
       "      <td>rcanterbury@aims1com</td>\n",
       "      <td>https://wwwlinkedincom/in/robertcanterburyaims/</td>\n",
       "    </tr>\n",
       "  </tbody>\n",
       "</table>\n",
       "</div>"
      ],
      "text/plain": [
       "                Name                         Company                  Website  \\\n",
       "0    Leanne Wilhardt    21st Century Healthcare, Inc  21stcenturyvitamins.com   \n",
       "1         Ron Plantz                Aa Medical Store       aamedicalstore.com   \n",
       "2       Aniedi James          Ada Med Supply Limited     adamedicalsupply.com   \n",
       "3       Rafael Celli  Advanced Instrumentations, Inc        advanced-inst.com   \n",
       "4  Robert Canterbury                        Aims Inc                aims1.com   \n",
       "\n",
       "                          Industry             Address Street           City  \\\n",
       "0                    Manufacturing     443 West Alameda Drive          Tempe   \n",
       "1  Medical Equipment Manufacturing  2000 Nw 133Rd Ave #2Miami          Miami   \n",
       "2                           Retail                        NaN  Sandy Springs   \n",
       "3           Biotechnology Research      6800 Nw 77Th Ct Miami          Miami   \n",
       "4             Software Development         235 Desiard Street         Monroe   \n",
       "\n",
       "         State  Zip Code        Country  Contact Number First Name  \\\n",
       "0      Arizona     85282  United States  1 480 966 1215     Leanne   \n",
       "1      Florida     33182  United States  1 786 409 2101        Ron   \n",
       "2      Georgia     30328  United States  1 678 398 0505     Aniedi   \n",
       "3      Florida     33166  United States  1 305 477 6331     Rafael   \n",
       "4  Los Angeles     71201  United States  1 318 323 2467     Robert   \n",
       "\n",
       "    Last Name                Job Title                                Email  \\\n",
       "0    Wilhardt                President       leannew@21stcenturyvitaminscom   \n",
       "1      Plantz  Chief Executive Officer  ronplantz@authorizedacquisitionscom   \n",
       "2       James                President           aniedi@adamedicalsupplycom   \n",
       "3       Celli                President               rafael@advancedinstcom   \n",
       "4  Canterbury                President                 rcanterbury@aims1com   \n",
       "\n",
       "                                        Linkedin URL  \n",
       "0  https://wwwlinkedincom/in/leannewilhardt94513b15/  \n",
       "1       https://wwwlinkedincom/in/ronplantz9a394319/  \n",
       "2     https://wwwlinkedincom/in/aniedijames054a9585/  \n",
       "3    https://wwwlinkedincom/in/rafaelcellia97058163/  \n",
       "4    https://wwwlinkedincom/in/robertcanterburyaims/  "
      ]
     },
     "execution_count": 17,
     "metadata": {},
     "output_type": "execute_result"
    }
   ],
   "source": [
    "first_col = df.pop('Name')\n",
    "df.insert(0,'Name',first_col)\n",
    "df.head()"
   ]
  },
  {
   "cell_type": "code",
   "execution_count": 18,
   "metadata": {},
   "outputs": [],
   "source": [
    "df = df.drop(['Address Street', 'Country', 'Zip Code', 'Contact Number', 'City', 'State','First Name', 'Last Name'], axis = 1)"
   ]
  },
  {
   "cell_type": "code",
   "execution_count": 19,
   "metadata": {},
   "outputs": [
    {
     "data": {
      "text/html": [
       "<div>\n",
       "<style scoped>\n",
       "    .dataframe tbody tr th:only-of-type {\n",
       "        vertical-align: middle;\n",
       "    }\n",
       "\n",
       "    .dataframe tbody tr th {\n",
       "        vertical-align: top;\n",
       "    }\n",
       "\n",
       "    .dataframe thead th {\n",
       "        text-align: right;\n",
       "    }\n",
       "</style>\n",
       "<table border=\"1\" class=\"dataframe\">\n",
       "  <thead>\n",
       "    <tr style=\"text-align: right;\">\n",
       "      <th></th>\n",
       "      <th>Name</th>\n",
       "      <th>Company</th>\n",
       "      <th>Website</th>\n",
       "      <th>Industry</th>\n",
       "      <th>Job Title</th>\n",
       "      <th>Email</th>\n",
       "      <th>Linkedin URL</th>\n",
       "    </tr>\n",
       "  </thead>\n",
       "  <tbody>\n",
       "    <tr>\n",
       "      <th>0</th>\n",
       "      <td>Leanne Wilhardt</td>\n",
       "      <td>21st Century Healthcare, Inc</td>\n",
       "      <td>21stcenturyvitamins.com</td>\n",
       "      <td>Manufacturing</td>\n",
       "      <td>President</td>\n",
       "      <td>leannew@21stcenturyvitaminscom</td>\n",
       "      <td>https://wwwlinkedincom/in/leannewilhardt94513b15/</td>\n",
       "    </tr>\n",
       "    <tr>\n",
       "      <th>1</th>\n",
       "      <td>Ron Plantz</td>\n",
       "      <td>Aa Medical Store</td>\n",
       "      <td>aamedicalstore.com</td>\n",
       "      <td>Medical Equipment Manufacturing</td>\n",
       "      <td>Chief Executive Officer</td>\n",
       "      <td>ronplantz@authorizedacquisitionscom</td>\n",
       "      <td>https://wwwlinkedincom/in/ronplantz9a394319/</td>\n",
       "    </tr>\n",
       "    <tr>\n",
       "      <th>2</th>\n",
       "      <td>Aniedi James</td>\n",
       "      <td>Ada Med Supply Limited</td>\n",
       "      <td>adamedicalsupply.com</td>\n",
       "      <td>Retail</td>\n",
       "      <td>President</td>\n",
       "      <td>aniedi@adamedicalsupplycom</td>\n",
       "      <td>https://wwwlinkedincom/in/aniedijames054a9585/</td>\n",
       "    </tr>\n",
       "    <tr>\n",
       "      <th>3</th>\n",
       "      <td>Rafael Celli</td>\n",
       "      <td>Advanced Instrumentations, Inc</td>\n",
       "      <td>advanced-inst.com</td>\n",
       "      <td>Biotechnology Research</td>\n",
       "      <td>President</td>\n",
       "      <td>rafael@advancedinstcom</td>\n",
       "      <td>https://wwwlinkedincom/in/rafaelcellia97058163/</td>\n",
       "    </tr>\n",
       "    <tr>\n",
       "      <th>4</th>\n",
       "      <td>Robert Canterbury</td>\n",
       "      <td>Aims Inc</td>\n",
       "      <td>aims1.com</td>\n",
       "      <td>Software Development</td>\n",
       "      <td>President</td>\n",
       "      <td>rcanterbury@aims1com</td>\n",
       "      <td>https://wwwlinkedincom/in/robertcanterburyaims/</td>\n",
       "    </tr>\n",
       "  </tbody>\n",
       "</table>\n",
       "</div>"
      ],
      "text/plain": [
       "                Name                         Company                  Website  \\\n",
       "0    Leanne Wilhardt    21st Century Healthcare, Inc  21stcenturyvitamins.com   \n",
       "1         Ron Plantz                Aa Medical Store       aamedicalstore.com   \n",
       "2       Aniedi James          Ada Med Supply Limited     adamedicalsupply.com   \n",
       "3       Rafael Celli  Advanced Instrumentations, Inc        advanced-inst.com   \n",
       "4  Robert Canterbury                        Aims Inc                aims1.com   \n",
       "\n",
       "                          Industry                Job Title  \\\n",
       "0                    Manufacturing                President   \n",
       "1  Medical Equipment Manufacturing  Chief Executive Officer   \n",
       "2                           Retail                President   \n",
       "3           Biotechnology Research                President   \n",
       "4             Software Development                President   \n",
       "\n",
       "                                 Email  \\\n",
       "0       leannew@21stcenturyvitaminscom   \n",
       "1  ronplantz@authorizedacquisitionscom   \n",
       "2           aniedi@adamedicalsupplycom   \n",
       "3               rafael@advancedinstcom   \n",
       "4                 rcanterbury@aims1com   \n",
       "\n",
       "                                        Linkedin URL  \n",
       "0  https://wwwlinkedincom/in/leannewilhardt94513b15/  \n",
       "1       https://wwwlinkedincom/in/ronplantz9a394319/  \n",
       "2     https://wwwlinkedincom/in/aniedijames054a9585/  \n",
       "3    https://wwwlinkedincom/in/rafaelcellia97058163/  \n",
       "4    https://wwwlinkedincom/in/robertcanterburyaims/  "
      ]
     },
     "execution_count": 19,
     "metadata": {},
     "output_type": "execute_result"
    }
   ],
   "source": [
    "df.head()"
   ]
  },
  {
   "cell_type": "code",
   "execution_count": 20,
   "metadata": {},
   "outputs": [],
   "source": [
    "df_spacy = df.copy()"
   ]
  },
  {
   "cell_type": "code",
   "execution_count": 21,
   "metadata": {},
   "outputs": [
    {
     "data": {
      "text/html": [
       "<div>\n",
       "<style scoped>\n",
       "    .dataframe tbody tr th:only-of-type {\n",
       "        vertical-align: middle;\n",
       "    }\n",
       "\n",
       "    .dataframe tbody tr th {\n",
       "        vertical-align: top;\n",
       "    }\n",
       "\n",
       "    .dataframe thead th {\n",
       "        text-align: right;\n",
       "    }\n",
       "</style>\n",
       "<table border=\"1\" class=\"dataframe\">\n",
       "  <thead>\n",
       "    <tr style=\"text-align: right;\">\n",
       "      <th></th>\n",
       "      <th>Name</th>\n",
       "      <th>Company</th>\n",
       "      <th>Website</th>\n",
       "      <th>Industry</th>\n",
       "      <th>Job Title</th>\n",
       "      <th>Email</th>\n",
       "      <th>Linkedin URL</th>\n",
       "    </tr>\n",
       "  </thead>\n",
       "  <tbody>\n",
       "    <tr>\n",
       "      <th>0</th>\n",
       "      <td>Leanne Wilhardt</td>\n",
       "      <td>21st Century Healthcare, Inc</td>\n",
       "      <td>21stcenturyvitamins.com</td>\n",
       "      <td>Manufacturing</td>\n",
       "      <td>President</td>\n",
       "      <td>leannew@21stcenturyvitaminscom</td>\n",
       "      <td>https://wwwlinkedincom/in/leannewilhardt94513b15/</td>\n",
       "    </tr>\n",
       "    <tr>\n",
       "      <th>1</th>\n",
       "      <td>Ron Plantz</td>\n",
       "      <td>Aa Medical Store</td>\n",
       "      <td>aamedicalstore.com</td>\n",
       "      <td>Medical Equipment Manufacturing</td>\n",
       "      <td>Chief Executive Officer</td>\n",
       "      <td>ronplantz@authorizedacquisitionscom</td>\n",
       "      <td>https://wwwlinkedincom/in/ronplantz9a394319/</td>\n",
       "    </tr>\n",
       "    <tr>\n",
       "      <th>2</th>\n",
       "      <td>Aniedi James</td>\n",
       "      <td>Ada Med Supply Limited</td>\n",
       "      <td>adamedicalsupply.com</td>\n",
       "      <td>Retail</td>\n",
       "      <td>President</td>\n",
       "      <td>aniedi@adamedicalsupplycom</td>\n",
       "      <td>https://wwwlinkedincom/in/aniedijames054a9585/</td>\n",
       "    </tr>\n",
       "    <tr>\n",
       "      <th>3</th>\n",
       "      <td>Rafael Celli</td>\n",
       "      <td>Advanced Instrumentations, Inc</td>\n",
       "      <td>advanced-inst.com</td>\n",
       "      <td>Biotechnology Research</td>\n",
       "      <td>President</td>\n",
       "      <td>rafael@advancedinstcom</td>\n",
       "      <td>https://wwwlinkedincom/in/rafaelcellia97058163/</td>\n",
       "    </tr>\n",
       "    <tr>\n",
       "      <th>4</th>\n",
       "      <td>Robert Canterbury</td>\n",
       "      <td>Aims Inc</td>\n",
       "      <td>aims1.com</td>\n",
       "      <td>Software Development</td>\n",
       "      <td>President</td>\n",
       "      <td>rcanterbury@aims1com</td>\n",
       "      <td>https://wwwlinkedincom/in/robertcanterburyaims/</td>\n",
       "    </tr>\n",
       "  </tbody>\n",
       "</table>\n",
       "</div>"
      ],
      "text/plain": [
       "                Name                         Company                  Website  \\\n",
       "0    Leanne Wilhardt    21st Century Healthcare, Inc  21stcenturyvitamins.com   \n",
       "1         Ron Plantz                Aa Medical Store       aamedicalstore.com   \n",
       "2       Aniedi James          Ada Med Supply Limited     adamedicalsupply.com   \n",
       "3       Rafael Celli  Advanced Instrumentations, Inc        advanced-inst.com   \n",
       "4  Robert Canterbury                        Aims Inc                aims1.com   \n",
       "\n",
       "                          Industry                Job Title  \\\n",
       "0                    Manufacturing                President   \n",
       "1  Medical Equipment Manufacturing  Chief Executive Officer   \n",
       "2                           Retail                President   \n",
       "3           Biotechnology Research                President   \n",
       "4             Software Development                President   \n",
       "\n",
       "                                 Email  \\\n",
       "0       leannew@21stcenturyvitaminscom   \n",
       "1  ronplantz@authorizedacquisitionscom   \n",
       "2           aniedi@adamedicalsupplycom   \n",
       "3               rafael@advancedinstcom   \n",
       "4                 rcanterbury@aims1com   \n",
       "\n",
       "                                        Linkedin URL  \n",
       "0  https://wwwlinkedincom/in/leannewilhardt94513b15/  \n",
       "1       https://wwwlinkedincom/in/ronplantz9a394319/  \n",
       "2     https://wwwlinkedincom/in/aniedijames054a9585/  \n",
       "3    https://wwwlinkedincom/in/rafaelcellia97058163/  \n",
       "4    https://wwwlinkedincom/in/robertcanterburyaims/  "
      ]
     },
     "execution_count": 21,
     "metadata": {},
     "output_type": "execute_result"
    }
   ],
   "source": [
    "df_spacy.head()"
   ]
  },
  {
   "cell_type": "code",
   "execution_count": 22,
   "metadata": {},
   "outputs": [],
   "source": [
    "def spacy_preprocess(text):\n",
    "    words = nlp(text.lower())\n",
    "    words = [word.text for word in words if word.text.isalnum()]\n",
    "    return ' '.join(words)"
   ]
  },
  {
   "cell_type": "code",
   "execution_count": 23,
   "metadata": {},
   "outputs": [],
   "source": [
    "df_spacy['processed job_title'] = df_spacy['Job Title'].apply(spacy_preprocess)\n"
   ]
  },
  {
   "cell_type": "code",
   "execution_count": 24,
   "metadata": {},
   "outputs": [],
   "source": [
    "df_spacy['processed Company_name'] = df_spacy['Company'].apply(spacy_preprocess)"
   ]
  },
  {
   "cell_type": "code",
   "execution_count": 25,
   "metadata": {},
   "outputs": [],
   "source": [
    "df_spacy['processed Industry_name'] = df_spacy['Industry'].apply(spacy_preprocess)"
   ]
  },
  {
   "cell_type": "code",
   "execution_count": 26,
   "metadata": {},
   "outputs": [],
   "source": [
    "df_spacy['processed Name'] = df_spacy['Name'].apply(spacy_preprocess)"
   ]
  },
  {
   "cell_type": "code",
   "execution_count": 27,
   "metadata": {},
   "outputs": [
    {
     "data": {
      "text/html": [
       "<div>\n",
       "<style scoped>\n",
       "    .dataframe tbody tr th:only-of-type {\n",
       "        vertical-align: middle;\n",
       "    }\n",
       "\n",
       "    .dataframe tbody tr th {\n",
       "        vertical-align: top;\n",
       "    }\n",
       "\n",
       "    .dataframe thead th {\n",
       "        text-align: right;\n",
       "    }\n",
       "</style>\n",
       "<table border=\"1\" class=\"dataframe\">\n",
       "  <thead>\n",
       "    <tr style=\"text-align: right;\">\n",
       "      <th></th>\n",
       "      <th>Name</th>\n",
       "      <th>Company</th>\n",
       "      <th>Website</th>\n",
       "      <th>Industry</th>\n",
       "      <th>Job Title</th>\n",
       "      <th>Email</th>\n",
       "      <th>Linkedin URL</th>\n",
       "      <th>processed job_title</th>\n",
       "      <th>processed Company_name</th>\n",
       "      <th>processed Industry_name</th>\n",
       "      <th>processed Name</th>\n",
       "    </tr>\n",
       "  </thead>\n",
       "  <tbody>\n",
       "    <tr>\n",
       "      <th>0</th>\n",
       "      <td>Leanne Wilhardt</td>\n",
       "      <td>21st Century Healthcare, Inc</td>\n",
       "      <td>21stcenturyvitamins.com</td>\n",
       "      <td>Manufacturing</td>\n",
       "      <td>President</td>\n",
       "      <td>leannew@21stcenturyvitaminscom</td>\n",
       "      <td>https://wwwlinkedincom/in/leannewilhardt94513b15/</td>\n",
       "      <td>president</td>\n",
       "      <td>21st century healthcare inc</td>\n",
       "      <td>manufacturing</td>\n",
       "      <td>leanne wilhardt</td>\n",
       "    </tr>\n",
       "    <tr>\n",
       "      <th>1</th>\n",
       "      <td>Ron Plantz</td>\n",
       "      <td>Aa Medical Store</td>\n",
       "      <td>aamedicalstore.com</td>\n",
       "      <td>Medical Equipment Manufacturing</td>\n",
       "      <td>Chief Executive Officer</td>\n",
       "      <td>ronplantz@authorizedacquisitionscom</td>\n",
       "      <td>https://wwwlinkedincom/in/ronplantz9a394319/</td>\n",
       "      <td>chief executive officer</td>\n",
       "      <td>aa medical store</td>\n",
       "      <td>medical equipment manufacturing</td>\n",
       "      <td>ron plantz</td>\n",
       "    </tr>\n",
       "    <tr>\n",
       "      <th>2</th>\n",
       "      <td>Aniedi James</td>\n",
       "      <td>Ada Med Supply Limited</td>\n",
       "      <td>adamedicalsupply.com</td>\n",
       "      <td>Retail</td>\n",
       "      <td>President</td>\n",
       "      <td>aniedi@adamedicalsupplycom</td>\n",
       "      <td>https://wwwlinkedincom/in/aniedijames054a9585/</td>\n",
       "      <td>president</td>\n",
       "      <td>ada med supply limited</td>\n",
       "      <td>retail</td>\n",
       "      <td>aniedi james</td>\n",
       "    </tr>\n",
       "    <tr>\n",
       "      <th>3</th>\n",
       "      <td>Rafael Celli</td>\n",
       "      <td>Advanced Instrumentations, Inc</td>\n",
       "      <td>advanced-inst.com</td>\n",
       "      <td>Biotechnology Research</td>\n",
       "      <td>President</td>\n",
       "      <td>rafael@advancedinstcom</td>\n",
       "      <td>https://wwwlinkedincom/in/rafaelcellia97058163/</td>\n",
       "      <td>president</td>\n",
       "      <td>advanced instrumentations inc</td>\n",
       "      <td>biotechnology research</td>\n",
       "      <td>rafael celli</td>\n",
       "    </tr>\n",
       "    <tr>\n",
       "      <th>4</th>\n",
       "      <td>Robert Canterbury</td>\n",
       "      <td>Aims Inc</td>\n",
       "      <td>aims1.com</td>\n",
       "      <td>Software Development</td>\n",
       "      <td>President</td>\n",
       "      <td>rcanterbury@aims1com</td>\n",
       "      <td>https://wwwlinkedincom/in/robertcanterburyaims/</td>\n",
       "      <td>president</td>\n",
       "      <td>aims inc</td>\n",
       "      <td>software development</td>\n",
       "      <td>robert canterbury</td>\n",
       "    </tr>\n",
       "  </tbody>\n",
       "</table>\n",
       "</div>"
      ],
      "text/plain": [
       "                Name                         Company                  Website  \\\n",
       "0    Leanne Wilhardt    21st Century Healthcare, Inc  21stcenturyvitamins.com   \n",
       "1         Ron Plantz                Aa Medical Store       aamedicalstore.com   \n",
       "2       Aniedi James          Ada Med Supply Limited     adamedicalsupply.com   \n",
       "3       Rafael Celli  Advanced Instrumentations, Inc        advanced-inst.com   \n",
       "4  Robert Canterbury                        Aims Inc                aims1.com   \n",
       "\n",
       "                          Industry                Job Title  \\\n",
       "0                    Manufacturing                President   \n",
       "1  Medical Equipment Manufacturing  Chief Executive Officer   \n",
       "2                           Retail                President   \n",
       "3           Biotechnology Research                President   \n",
       "4             Software Development                President   \n",
       "\n",
       "                                 Email  \\\n",
       "0       leannew@21stcenturyvitaminscom   \n",
       "1  ronplantz@authorizedacquisitionscom   \n",
       "2           aniedi@adamedicalsupplycom   \n",
       "3               rafael@advancedinstcom   \n",
       "4                 rcanterbury@aims1com   \n",
       "\n",
       "                                        Linkedin URL      processed job_title  \\\n",
       "0  https://wwwlinkedincom/in/leannewilhardt94513b15/                president   \n",
       "1       https://wwwlinkedincom/in/ronplantz9a394319/  chief executive officer   \n",
       "2     https://wwwlinkedincom/in/aniedijames054a9585/                president   \n",
       "3    https://wwwlinkedincom/in/rafaelcellia97058163/                president   \n",
       "4    https://wwwlinkedincom/in/robertcanterburyaims/                president   \n",
       "\n",
       "          processed Company_name          processed Industry_name  \\\n",
       "0    21st century healthcare inc                    manufacturing   \n",
       "1               aa medical store  medical equipment manufacturing   \n",
       "2         ada med supply limited                           retail   \n",
       "3  advanced instrumentations inc           biotechnology research   \n",
       "4                       aims inc             software development   \n",
       "\n",
       "      processed Name  \n",
       "0    leanne wilhardt  \n",
       "1         ron plantz  \n",
       "2       aniedi james  \n",
       "3       rafael celli  \n",
       "4  robert canterbury  "
      ]
     },
     "execution_count": 27,
     "metadata": {},
     "output_type": "execute_result"
    }
   ],
   "source": [
    "df_spacy.head()"
   ]
  },
  {
   "cell_type": "markdown",
   "metadata": {},
   "source": [
    "## Vectorize the Data"
   ]
  },
  {
   "cell_type": "markdown",
   "metadata": {},
   "source": [
    "Loading pre-trained transformer model and also tokenizer\n",
    "for this we will be using TFAutoModel and AutoTokenizer instead of going for an transformer specific tokenizer and model so that we can implement same using another transformer without changing the code much later"
   ]
  },
  {
   "cell_type": "code",
   "execution_count": 28,
   "metadata": {},
   "outputs": [],
   "source": [
    "def encode_feature(req_feature):\n",
    "    #tokenizing\n",
    "    inputs = tokenizer(req_feature, return_tensors='tf',truncation = True, padding = 'max_length', max_length = 20)\n",
    "    outputs = model(**inputs)\n",
    "    cls_embedding = outputs.last_hidden_state[:,0,:]\n",
    "\n",
    "    return cls_embedding.numpy().flatten()\n",
    "\n",
    "def combine_embeddings(embedding_col1,embedding_col2):\n",
    "    return tf.concat([embedding_col1, embedding_col2], axis=0)  # Concatenate embeddings"
   ]
  },
  {
   "cell_type": "code",
   "execution_count": 29,
   "metadata": {},
   "outputs": [],
   "source": [
    "df_spacy['job_title_feature_encoding'] = df_spacy['processed job_title'].apply(encode_feature)\n",
    "df_spacy['Industry_feature_encoding'] = df_spacy['processed Industry_name'].apply(encode_feature)"
   ]
  },
  {
   "cell_type": "code",
   "execution_count": 30,
   "metadata": {},
   "outputs": [],
   "source": [
    "df_spacy['combined_embeddings'] = df_spacy.apply(lambda row: combine_embeddings(row['job_title_feature_encoding'], row['Industry_feature_encoding']), axis=1)"
   ]
  },
  {
   "cell_type": "code",
   "execution_count": 31,
   "metadata": {},
   "outputs": [
    {
     "data": {
      "text/html": [
       "<div>\n",
       "<style scoped>\n",
       "    .dataframe tbody tr th:only-of-type {\n",
       "        vertical-align: middle;\n",
       "    }\n",
       "\n",
       "    .dataframe tbody tr th {\n",
       "        vertical-align: top;\n",
       "    }\n",
       "\n",
       "    .dataframe thead th {\n",
       "        text-align: right;\n",
       "    }\n",
       "</style>\n",
       "<table border=\"1\" class=\"dataframe\">\n",
       "  <thead>\n",
       "    <tr style=\"text-align: right;\">\n",
       "      <th></th>\n",
       "      <th>Name</th>\n",
       "      <th>Company</th>\n",
       "      <th>Website</th>\n",
       "      <th>Industry</th>\n",
       "      <th>Job Title</th>\n",
       "      <th>Email</th>\n",
       "      <th>Linkedin URL</th>\n",
       "      <th>processed job_title</th>\n",
       "      <th>processed Company_name</th>\n",
       "      <th>processed Industry_name</th>\n",
       "      <th>processed Name</th>\n",
       "      <th>job_title_feature_encoding</th>\n",
       "      <th>Industry_feature_encoding</th>\n",
       "      <th>combined_embeddings</th>\n",
       "    </tr>\n",
       "  </thead>\n",
       "  <tbody>\n",
       "    <tr>\n",
       "      <th>0</th>\n",
       "      <td>Leanne Wilhardt</td>\n",
       "      <td>21st Century Healthcare, Inc</td>\n",
       "      <td>21stcenturyvitamins.com</td>\n",
       "      <td>Manufacturing</td>\n",
       "      <td>President</td>\n",
       "      <td>leannew@21stcenturyvitaminscom</td>\n",
       "      <td>https://wwwlinkedincom/in/leannewilhardt94513b15/</td>\n",
       "      <td>president</td>\n",
       "      <td>21st century healthcare inc</td>\n",
       "      <td>manufacturing</td>\n",
       "      <td>leanne wilhardt</td>\n",
       "      <td>[-0.53009087, 0.36041957, -0.10122657, 0.05373...</td>\n",
       "      <td>[-0.44714177, 0.2072348, -0.2586438, -0.258063...</td>\n",
       "      <td>(tf.Tensor(-0.53009087, shape=(), dtype=float3...</td>\n",
       "    </tr>\n",
       "    <tr>\n",
       "      <th>1</th>\n",
       "      <td>Ron Plantz</td>\n",
       "      <td>Aa Medical Store</td>\n",
       "      <td>aamedicalstore.com</td>\n",
       "      <td>Medical Equipment Manufacturing</td>\n",
       "      <td>Chief Executive Officer</td>\n",
       "      <td>ronplantz@authorizedacquisitionscom</td>\n",
       "      <td>https://wwwlinkedincom/in/ronplantz9a394319/</td>\n",
       "      <td>chief executive officer</td>\n",
       "      <td>aa medical store</td>\n",
       "      <td>medical equipment manufacturing</td>\n",
       "      <td>ron plantz</td>\n",
       "      <td>[-0.5166925, 0.13698275, -0.21617708, 0.091861...</td>\n",
       "      <td>[-0.2998284, 0.18884052, -1.0831927, -0.320566...</td>\n",
       "      <td>(tf.Tensor(-0.5166925, shape=(), dtype=float32...</td>\n",
       "    </tr>\n",
       "    <tr>\n",
       "      <th>2</th>\n",
       "      <td>Aniedi James</td>\n",
       "      <td>Ada Med Supply Limited</td>\n",
       "      <td>adamedicalsupply.com</td>\n",
       "      <td>Retail</td>\n",
       "      <td>President</td>\n",
       "      <td>aniedi@adamedicalsupplycom</td>\n",
       "      <td>https://wwwlinkedincom/in/aniedijames054a9585/</td>\n",
       "      <td>president</td>\n",
       "      <td>ada med supply limited</td>\n",
       "      <td>retail</td>\n",
       "      <td>aniedi james</td>\n",
       "      <td>[-0.53009087, 0.36041957, -0.10122657, 0.05373...</td>\n",
       "      <td>[-0.2644915, 0.020314414, -0.23779479, -0.3004...</td>\n",
       "      <td>(tf.Tensor(-0.53009087, shape=(), dtype=float3...</td>\n",
       "    </tr>\n",
       "    <tr>\n",
       "      <th>3</th>\n",
       "      <td>Rafael Celli</td>\n",
       "      <td>Advanced Instrumentations, Inc</td>\n",
       "      <td>advanced-inst.com</td>\n",
       "      <td>Biotechnology Research</td>\n",
       "      <td>President</td>\n",
       "      <td>rafael@advancedinstcom</td>\n",
       "      <td>https://wwwlinkedincom/in/rafaelcellia97058163/</td>\n",
       "      <td>president</td>\n",
       "      <td>advanced instrumentations inc</td>\n",
       "      <td>biotechnology research</td>\n",
       "      <td>rafael celli</td>\n",
       "      <td>[-0.53009087, 0.36041957, -0.10122657, 0.05373...</td>\n",
       "      <td>[0.025510872, 0.105550475, -0.8422301, -0.0477...</td>\n",
       "      <td>(tf.Tensor(-0.53009087, shape=(), dtype=float3...</td>\n",
       "    </tr>\n",
       "    <tr>\n",
       "      <th>4</th>\n",
       "      <td>Robert Canterbury</td>\n",
       "      <td>Aims Inc</td>\n",
       "      <td>aims1.com</td>\n",
       "      <td>Software Development</td>\n",
       "      <td>President</td>\n",
       "      <td>rcanterbury@aims1com</td>\n",
       "      <td>https://wwwlinkedincom/in/robertcanterburyaims/</td>\n",
       "      <td>president</td>\n",
       "      <td>aims inc</td>\n",
       "      <td>software development</td>\n",
       "      <td>robert canterbury</td>\n",
       "      <td>[-0.53009087, 0.36041957, -0.10122657, 0.05373...</td>\n",
       "      <td>[-0.11512597, 0.1682517, -0.6216314, 0.0423190...</td>\n",
       "      <td>(tf.Tensor(-0.53009087, shape=(), dtype=float3...</td>\n",
       "    </tr>\n",
       "  </tbody>\n",
       "</table>\n",
       "</div>"
      ],
      "text/plain": [
       "                Name                         Company                  Website  \\\n",
       "0    Leanne Wilhardt    21st Century Healthcare, Inc  21stcenturyvitamins.com   \n",
       "1         Ron Plantz                Aa Medical Store       aamedicalstore.com   \n",
       "2       Aniedi James          Ada Med Supply Limited     adamedicalsupply.com   \n",
       "3       Rafael Celli  Advanced Instrumentations, Inc        advanced-inst.com   \n",
       "4  Robert Canterbury                        Aims Inc                aims1.com   \n",
       "\n",
       "                          Industry                Job Title  \\\n",
       "0                    Manufacturing                President   \n",
       "1  Medical Equipment Manufacturing  Chief Executive Officer   \n",
       "2                           Retail                President   \n",
       "3           Biotechnology Research                President   \n",
       "4             Software Development                President   \n",
       "\n",
       "                                 Email  \\\n",
       "0       leannew@21stcenturyvitaminscom   \n",
       "1  ronplantz@authorizedacquisitionscom   \n",
       "2           aniedi@adamedicalsupplycom   \n",
       "3               rafael@advancedinstcom   \n",
       "4                 rcanterbury@aims1com   \n",
       "\n",
       "                                        Linkedin URL      processed job_title  \\\n",
       "0  https://wwwlinkedincom/in/leannewilhardt94513b15/                president   \n",
       "1       https://wwwlinkedincom/in/ronplantz9a394319/  chief executive officer   \n",
       "2     https://wwwlinkedincom/in/aniedijames054a9585/                president   \n",
       "3    https://wwwlinkedincom/in/rafaelcellia97058163/                president   \n",
       "4    https://wwwlinkedincom/in/robertcanterburyaims/                president   \n",
       "\n",
       "          processed Company_name          processed Industry_name  \\\n",
       "0    21st century healthcare inc                    manufacturing   \n",
       "1               aa medical store  medical equipment manufacturing   \n",
       "2         ada med supply limited                           retail   \n",
       "3  advanced instrumentations inc           biotechnology research   \n",
       "4                       aims inc             software development   \n",
       "\n",
       "      processed Name                         job_title_feature_encoding  \\\n",
       "0    leanne wilhardt  [-0.53009087, 0.36041957, -0.10122657, 0.05373...   \n",
       "1         ron plantz  [-0.5166925, 0.13698275, -0.21617708, 0.091861...   \n",
       "2       aniedi james  [-0.53009087, 0.36041957, -0.10122657, 0.05373...   \n",
       "3       rafael celli  [-0.53009087, 0.36041957, -0.10122657, 0.05373...   \n",
       "4  robert canterbury  [-0.53009087, 0.36041957, -0.10122657, 0.05373...   \n",
       "\n",
       "                           Industry_feature_encoding  \\\n",
       "0  [-0.44714177, 0.2072348, -0.2586438, -0.258063...   \n",
       "1  [-0.2998284, 0.18884052, -1.0831927, -0.320566...   \n",
       "2  [-0.2644915, 0.020314414, -0.23779479, -0.3004...   \n",
       "3  [0.025510872, 0.105550475, -0.8422301, -0.0477...   \n",
       "4  [-0.11512597, 0.1682517, -0.6216314, 0.0423190...   \n",
       "\n",
       "                                 combined_embeddings  \n",
       "0  (tf.Tensor(-0.53009087, shape=(), dtype=float3...  \n",
       "1  (tf.Tensor(-0.5166925, shape=(), dtype=float32...  \n",
       "2  (tf.Tensor(-0.53009087, shape=(), dtype=float3...  \n",
       "3  (tf.Tensor(-0.53009087, shape=(), dtype=float3...  \n",
       "4  (tf.Tensor(-0.53009087, shape=(), dtype=float3...  "
      ]
     },
     "execution_count": 31,
     "metadata": {},
     "output_type": "execute_result"
    }
   ],
   "source": [
    "df_spacy.head()"
   ]
  },
  {
   "cell_type": "code",
   "execution_count": 32,
   "metadata": {},
   "outputs": [
    {
     "data": {
      "text/plain": [
       "<tf.Tensor: shape=(1536,), dtype=float32, numpy=\n",
       "array([-0.53009087,  0.36041957, -0.10122657, ..., -0.12748411,\n",
       "        0.21734296,  0.20955475], dtype=float32)>"
      ]
     },
     "execution_count": 32,
     "metadata": {},
     "output_type": "execute_result"
    }
   ],
   "source": [
    "df_spacy['combined_embeddings'][0]"
   ]
  },
  {
   "cell_type": "code",
   "execution_count": 33,
   "metadata": {},
   "outputs": [],
   "source": [
    "#convert all the embeddings to tensor for model input\n",
    "features = tf.convert_to_tensor(np.stack(df_spacy['combined_embeddings'].values))\n"
   ]
  },
  {
   "cell_type": "code",
   "execution_count": 34,
   "metadata": {},
   "outputs": [
    {
     "data": {
      "text/plain": [
       "<tf.Tensor: shape=(101, 1536), dtype=float32, numpy=\n",
       "array([[-0.53009087,  0.36041957, -0.10122657, ..., -0.12748411,\n",
       "         0.21734296,  0.20955475],\n",
       "       [-0.5166925 ,  0.13698275, -0.21617708, ..., -0.10543523,\n",
       "         0.620227  , -0.11819591],\n",
       "       [-0.53009087,  0.36041957, -0.10122657, ..., -0.1854208 ,\n",
       "         0.40109605,  0.44042632],\n",
       "       ...,\n",
       "       [-0.53009087,  0.36041957, -0.10122657, ..., -0.10543523,\n",
       "         0.620227  , -0.11819591],\n",
       "       [-0.5166925 ,  0.13698275, -0.21617708, ..., -0.10543523,\n",
       "         0.620227  , -0.11819591],\n",
       "       [-0.7710692 ,  0.1360511 , -0.41925907, ..., -0.25043863,\n",
       "        -0.13108745,  0.2567986 ]], dtype=float32)>"
      ]
     },
     "execution_count": 34,
     "metadata": {},
     "output_type": "execute_result"
    }
   ],
   "source": [
    "features"
   ]
  },
  {
   "cell_type": "code",
   "execution_count": 35,
   "metadata": {},
   "outputs": [
    {
     "data": {
      "text/plain": [
       "TensorShape([101, 1536])"
      ]
     },
     "execution_count": 35,
     "metadata": {},
     "output_type": "execute_result"
    }
   ],
   "source": [
    "features.shape"
   ]
  },
  {
   "cell_type": "markdown",
   "metadata": {},
   "source": [
    "## Model Training and Evaluation"
   ]
  },
  {
   "cell_type": "code",
   "execution_count": 36,
   "metadata": {},
   "outputs": [
    {
     "name": "stderr",
     "output_type": "stream",
     "text": [
      "d:\\Agents\\Lead_generator\\my_env\\Lib\\site-packages\\keras\\src\\layers\\core\\input_layer.py:26: UserWarning: Argument `input_shape` is deprecated. Use `shape` instead.\n",
      "  warnings.warn(\n"
     ]
    },
    {
     "data": {
      "text/html": [
       "<pre style=\"white-space:pre;overflow-x:auto;line-height:normal;font-family:Menlo,'DejaVu Sans Mono',consolas,'Courier New',monospace\"><span style=\"font-weight: bold\">Model: \"sequential\"</span>\n",
       "</pre>\n"
      ],
      "text/plain": [
       "\u001b[1mModel: \"sequential\"\u001b[0m\n"
      ]
     },
     "metadata": {},
     "output_type": "display_data"
    },
    {
     "data": {
      "text/html": [
       "<pre style=\"white-space:pre;overflow-x:auto;line-height:normal;font-family:Menlo,'DejaVu Sans Mono',consolas,'Courier New',monospace\">┏━━━━━━━━━━━━━━━━━━━━━━━━━━━━━━━━━┳━━━━━━━━━━━━━━━━━━━━━━━━┳━━━━━━━━━━━━━━━┓\n",
       "┃<span style=\"font-weight: bold\"> Layer (type)                    </span>┃<span style=\"font-weight: bold\"> Output Shape           </span>┃<span style=\"font-weight: bold\">       Param # </span>┃\n",
       "┡━━━━━━━━━━━━━━━━━━━━━━━━━━━━━━━━━╇━━━━━━━━━━━━━━━━━━━━━━━━╇━━━━━━━━━━━━━━━┩\n",
       "│ dense (<span style=\"color: #0087ff; text-decoration-color: #0087ff\">Dense</span>)                   │ (<span style=\"color: #00d7ff; text-decoration-color: #00d7ff\">None</span>, <span style=\"color: #00af00; text-decoration-color: #00af00\">512</span>)            │       <span style=\"color: #00af00; text-decoration-color: #00af00\">786,944</span> │\n",
       "├─────────────────────────────────┼────────────────────────┼───────────────┤\n",
       "│ dropout (<span style=\"color: #0087ff; text-decoration-color: #0087ff\">Dropout</span>)               │ (<span style=\"color: #00d7ff; text-decoration-color: #00d7ff\">None</span>, <span style=\"color: #00af00; text-decoration-color: #00af00\">512</span>)            │             <span style=\"color: #00af00; text-decoration-color: #00af00\">0</span> │\n",
       "├─────────────────────────────────┼────────────────────────┼───────────────┤\n",
       "│ dense_1 (<span style=\"color: #0087ff; text-decoration-color: #0087ff\">Dense</span>)                 │ (<span style=\"color: #00d7ff; text-decoration-color: #00d7ff\">None</span>, <span style=\"color: #00af00; text-decoration-color: #00af00\">256</span>)            │       <span style=\"color: #00af00; text-decoration-color: #00af00\">131,328</span> │\n",
       "├─────────────────────────────────┼────────────────────────┼───────────────┤\n",
       "│ dense_2 (<span style=\"color: #0087ff; text-decoration-color: #0087ff\">Dense</span>)                 │ (<span style=\"color: #00d7ff; text-decoration-color: #00d7ff\">None</span>, <span style=\"color: #00af00; text-decoration-color: #00af00\">3</span>)              │           <span style=\"color: #00af00; text-decoration-color: #00af00\">771</span> │\n",
       "└─────────────────────────────────┴────────────────────────┴───────────────┘\n",
       "</pre>\n"
      ],
      "text/plain": [
       "┏━━━━━━━━━━━━━━━━━━━━━━━━━━━━━━━━━┳━━━━━━━━━━━━━━━━━━━━━━━━┳━━━━━━━━━━━━━━━┓\n",
       "┃\u001b[1m \u001b[0m\u001b[1mLayer (type)                   \u001b[0m\u001b[1m \u001b[0m┃\u001b[1m \u001b[0m\u001b[1mOutput Shape          \u001b[0m\u001b[1m \u001b[0m┃\u001b[1m \u001b[0m\u001b[1m      Param #\u001b[0m\u001b[1m \u001b[0m┃\n",
       "┡━━━━━━━━━━━━━━━━━━━━━━━━━━━━━━━━━╇━━━━━━━━━━━━━━━━━━━━━━━━╇━━━━━━━━━━━━━━━┩\n",
       "│ dense (\u001b[38;5;33mDense\u001b[0m)                   │ (\u001b[38;5;45mNone\u001b[0m, \u001b[38;5;34m512\u001b[0m)            │       \u001b[38;5;34m786,944\u001b[0m │\n",
       "├─────────────────────────────────┼────────────────────────┼───────────────┤\n",
       "│ dropout (\u001b[38;5;33mDropout\u001b[0m)               │ (\u001b[38;5;45mNone\u001b[0m, \u001b[38;5;34m512\u001b[0m)            │             \u001b[38;5;34m0\u001b[0m │\n",
       "├─────────────────────────────────┼────────────────────────┼───────────────┤\n",
       "│ dense_1 (\u001b[38;5;33mDense\u001b[0m)                 │ (\u001b[38;5;45mNone\u001b[0m, \u001b[38;5;34m256\u001b[0m)            │       \u001b[38;5;34m131,328\u001b[0m │\n",
       "├─────────────────────────────────┼────────────────────────┼───────────────┤\n",
       "│ dense_2 (\u001b[38;5;33mDense\u001b[0m)                 │ (\u001b[38;5;45mNone\u001b[0m, \u001b[38;5;34m3\u001b[0m)              │           \u001b[38;5;34m771\u001b[0m │\n",
       "└─────────────────────────────────┴────────────────────────┴───────────────┘\n"
      ]
     },
     "metadata": {},
     "output_type": "display_data"
    },
    {
     "data": {
      "text/html": [
       "<pre style=\"white-space:pre;overflow-x:auto;line-height:normal;font-family:Menlo,'DejaVu Sans Mono',consolas,'Courier New',monospace\"><span style=\"font-weight: bold\"> Total params: </span><span style=\"color: #00af00; text-decoration-color: #00af00\">919,043</span> (3.51 MB)\n",
       "</pre>\n"
      ],
      "text/plain": [
       "\u001b[1m Total params: \u001b[0m\u001b[38;5;34m919,043\u001b[0m (3.51 MB)\n"
      ]
     },
     "metadata": {},
     "output_type": "display_data"
    },
    {
     "data": {
      "text/html": [
       "<pre style=\"white-space:pre;overflow-x:auto;line-height:normal;font-family:Menlo,'DejaVu Sans Mono',consolas,'Courier New',monospace\"><span style=\"font-weight: bold\"> Trainable params: </span><span style=\"color: #00af00; text-decoration-color: #00af00\">919,043</span> (3.51 MB)\n",
       "</pre>\n"
      ],
      "text/plain": [
       "\u001b[1m Trainable params: \u001b[0m\u001b[38;5;34m919,043\u001b[0m (3.51 MB)\n"
      ]
     },
     "metadata": {},
     "output_type": "display_data"
    },
    {
     "data": {
      "text/html": [
       "<pre style=\"white-space:pre;overflow-x:auto;line-height:normal;font-family:Menlo,'DejaVu Sans Mono',consolas,'Courier New',monospace\"><span style=\"font-weight: bold\"> Non-trainable params: </span><span style=\"color: #00af00; text-decoration-color: #00af00\">0</span> (0.00 B)\n",
       "</pre>\n"
      ],
      "text/plain": [
       "\u001b[1m Non-trainable params: \u001b[0m\u001b[38;5;34m0\u001b[0m (0.00 B)\n"
      ]
     },
     "metadata": {},
     "output_type": "display_data"
    }
   ],
   "source": [
    "model = models.Sequential()\n",
    "model.add(layers.InputLayer(input_shape = (1536,)))\n",
    "model.add(layers.Dense(512, activation='relu',kernel_regularizer=regularizers.l2(0.01)))\n",
    "model.add(layers.Dropout(0.3))\n",
    "model.add(layers.Dense(256, activation='relu'))\n",
    "model.add(layers.Dense(3, activation='softmax'))  # For multi-class classification\n",
    "loss = 'sparse_categorical_crossentropy'\n",
    "optimizer = Adam(learning_rate=0.001)  # Adjust learning rate if necessary\n",
    "model.compile(optimizer=optimizer, loss=loss, metrics=['accuracy'])\n",
    "model.summary()"
   ]
  },
  {
   "cell_type": "code",
   "execution_count": 37,
   "metadata": {},
   "outputs": [
    {
     "data": {
      "text/plain": [
       "Index(['Name', 'Company', 'Website', 'Industry', 'Job Title', 'Email',\n",
       "       'Linkedin URL', 'processed job_title', 'processed Company_name',\n",
       "       'processed Industry_name', 'processed Name',\n",
       "       'job_title_feature_encoding', 'Industry_feature_encoding',\n",
       "       'combined_embeddings'],\n",
       "      dtype='object')"
      ]
     },
     "execution_count": 37,
     "metadata": {},
     "output_type": "execute_result"
    }
   ],
   "source": [
    "df_spacy.columns"
   ]
  },
  {
   "cell_type": "markdown",
   "metadata": {},
   "source": [
    "Dividing the industries and job titles into different categories for this use case"
   ]
  },
  {
   "cell_type": "code",
   "execution_count": 38,
   "metadata": {},
   "outputs": [],
   "source": [
    "hot_industries = ['IT Services And IT Consulting', 'Software Development', 'Medical Device', 'Pharmaceuticals', 'Business Consulting And Services']\n",
    "warm_industries = ['Hospitals And Health Care', 'Health, Wellness & Fitness', 'Nonprofit Organizations', 'Government Administration', 'Manufacturing']\n",
    "cold_industries = ['Retail', 'Appliances, Electrical, And Electronics Manufacturing', 'Environmental Services', 'Design Services', 'Wholesale']\n",
    "\n",
    "hot_job_titles = ['Chief Executive Officer', 'President', 'Founder', 'Vice President', 'Director']\n",
    "warm_job_titles = ['Executive Director', 'Managing Director', 'Owner', 'General Manager', 'Vice President of Operations']\n",
    "cold_job_titles = ['CoOwner', 'Deputy Director', 'Executive Vice President']\n",
    "\n",
    "def classify_lead(row):\n",
    "    if row['Job Title'] in hot_job_titles and row['Industry'] in hot_industries:\n",
    "        return 'Hot'\n",
    "    elif row['Job Title'] in warm_job_titles and row['Industry'] in warm_industries:\n",
    "        return 'Warm'\n",
    "    else:\n",
    "        return 'Cold'\n",
    "\n",
    "df_spacy['lead_type'] = df_spacy.apply(classify_lead, axis=1)\n",
    "\n",
    "lead_type_mapping = {'Hot': 2, 'Warm': 1, 'Cold': 0}\n",
    "\n",
    "df_spacy['lead_label'] = df_spacy['lead_type'].map(lead_type_mapping)\n"
   ]
  },
  {
   "cell_type": "code",
   "execution_count": 39,
   "metadata": {},
   "outputs": [
    {
     "data": {
      "text/html": [
       "<div>\n",
       "<style scoped>\n",
       "    .dataframe tbody tr th:only-of-type {\n",
       "        vertical-align: middle;\n",
       "    }\n",
       "\n",
       "    .dataframe tbody tr th {\n",
       "        vertical-align: top;\n",
       "    }\n",
       "\n",
       "    .dataframe thead th {\n",
       "        text-align: right;\n",
       "    }\n",
       "</style>\n",
       "<table border=\"1\" class=\"dataframe\">\n",
       "  <thead>\n",
       "    <tr style=\"text-align: right;\">\n",
       "      <th></th>\n",
       "      <th>Name</th>\n",
       "      <th>Company</th>\n",
       "      <th>Website</th>\n",
       "      <th>Industry</th>\n",
       "      <th>Job Title</th>\n",
       "      <th>Email</th>\n",
       "      <th>Linkedin URL</th>\n",
       "      <th>processed job_title</th>\n",
       "      <th>processed Company_name</th>\n",
       "      <th>processed Industry_name</th>\n",
       "      <th>processed Name</th>\n",
       "      <th>job_title_feature_encoding</th>\n",
       "      <th>Industry_feature_encoding</th>\n",
       "      <th>combined_embeddings</th>\n",
       "      <th>lead_type</th>\n",
       "      <th>lead_label</th>\n",
       "    </tr>\n",
       "  </thead>\n",
       "  <tbody>\n",
       "    <tr>\n",
       "      <th>0</th>\n",
       "      <td>Leanne Wilhardt</td>\n",
       "      <td>21st Century Healthcare, Inc</td>\n",
       "      <td>21stcenturyvitamins.com</td>\n",
       "      <td>Manufacturing</td>\n",
       "      <td>President</td>\n",
       "      <td>leannew@21stcenturyvitaminscom</td>\n",
       "      <td>https://wwwlinkedincom/in/leannewilhardt94513b15/</td>\n",
       "      <td>president</td>\n",
       "      <td>21st century healthcare inc</td>\n",
       "      <td>manufacturing</td>\n",
       "      <td>leanne wilhardt</td>\n",
       "      <td>[-0.53009087, 0.36041957, -0.10122657, 0.05373...</td>\n",
       "      <td>[-0.44714177, 0.2072348, -0.2586438, -0.258063...</td>\n",
       "      <td>(tf.Tensor(-0.53009087, shape=(), dtype=float3...</td>\n",
       "      <td>Cold</td>\n",
       "      <td>0</td>\n",
       "    </tr>\n",
       "    <tr>\n",
       "      <th>1</th>\n",
       "      <td>Ron Plantz</td>\n",
       "      <td>Aa Medical Store</td>\n",
       "      <td>aamedicalstore.com</td>\n",
       "      <td>Medical Equipment Manufacturing</td>\n",
       "      <td>Chief Executive Officer</td>\n",
       "      <td>ronplantz@authorizedacquisitionscom</td>\n",
       "      <td>https://wwwlinkedincom/in/ronplantz9a394319/</td>\n",
       "      <td>chief executive officer</td>\n",
       "      <td>aa medical store</td>\n",
       "      <td>medical equipment manufacturing</td>\n",
       "      <td>ron plantz</td>\n",
       "      <td>[-0.5166925, 0.13698275, -0.21617708, 0.091861...</td>\n",
       "      <td>[-0.2998284, 0.18884052, -1.0831927, -0.320566...</td>\n",
       "      <td>(tf.Tensor(-0.5166925, shape=(), dtype=float32...</td>\n",
       "      <td>Cold</td>\n",
       "      <td>0</td>\n",
       "    </tr>\n",
       "    <tr>\n",
       "      <th>2</th>\n",
       "      <td>Aniedi James</td>\n",
       "      <td>Ada Med Supply Limited</td>\n",
       "      <td>adamedicalsupply.com</td>\n",
       "      <td>Retail</td>\n",
       "      <td>President</td>\n",
       "      <td>aniedi@adamedicalsupplycom</td>\n",
       "      <td>https://wwwlinkedincom/in/aniedijames054a9585/</td>\n",
       "      <td>president</td>\n",
       "      <td>ada med supply limited</td>\n",
       "      <td>retail</td>\n",
       "      <td>aniedi james</td>\n",
       "      <td>[-0.53009087, 0.36041957, -0.10122657, 0.05373...</td>\n",
       "      <td>[-0.2644915, 0.020314414, -0.23779479, -0.3004...</td>\n",
       "      <td>(tf.Tensor(-0.53009087, shape=(), dtype=float3...</td>\n",
       "      <td>Cold</td>\n",
       "      <td>0</td>\n",
       "    </tr>\n",
       "    <tr>\n",
       "      <th>3</th>\n",
       "      <td>Rafael Celli</td>\n",
       "      <td>Advanced Instrumentations, Inc</td>\n",
       "      <td>advanced-inst.com</td>\n",
       "      <td>Biotechnology Research</td>\n",
       "      <td>President</td>\n",
       "      <td>rafael@advancedinstcom</td>\n",
       "      <td>https://wwwlinkedincom/in/rafaelcellia97058163/</td>\n",
       "      <td>president</td>\n",
       "      <td>advanced instrumentations inc</td>\n",
       "      <td>biotechnology research</td>\n",
       "      <td>rafael celli</td>\n",
       "      <td>[-0.53009087, 0.36041957, -0.10122657, 0.05373...</td>\n",
       "      <td>[0.025510872, 0.105550475, -0.8422301, -0.0477...</td>\n",
       "      <td>(tf.Tensor(-0.53009087, shape=(), dtype=float3...</td>\n",
       "      <td>Cold</td>\n",
       "      <td>0</td>\n",
       "    </tr>\n",
       "    <tr>\n",
       "      <th>4</th>\n",
       "      <td>Robert Canterbury</td>\n",
       "      <td>Aims Inc</td>\n",
       "      <td>aims1.com</td>\n",
       "      <td>Software Development</td>\n",
       "      <td>President</td>\n",
       "      <td>rcanterbury@aims1com</td>\n",
       "      <td>https://wwwlinkedincom/in/robertcanterburyaims/</td>\n",
       "      <td>president</td>\n",
       "      <td>aims inc</td>\n",
       "      <td>software development</td>\n",
       "      <td>robert canterbury</td>\n",
       "      <td>[-0.53009087, 0.36041957, -0.10122657, 0.05373...</td>\n",
       "      <td>[-0.11512597, 0.1682517, -0.6216314, 0.0423190...</td>\n",
       "      <td>(tf.Tensor(-0.53009087, shape=(), dtype=float3...</td>\n",
       "      <td>Hot</td>\n",
       "      <td>2</td>\n",
       "    </tr>\n",
       "  </tbody>\n",
       "</table>\n",
       "</div>"
      ],
      "text/plain": [
       "                Name                         Company                  Website  \\\n",
       "0    Leanne Wilhardt    21st Century Healthcare, Inc  21stcenturyvitamins.com   \n",
       "1         Ron Plantz                Aa Medical Store       aamedicalstore.com   \n",
       "2       Aniedi James          Ada Med Supply Limited     adamedicalsupply.com   \n",
       "3       Rafael Celli  Advanced Instrumentations, Inc        advanced-inst.com   \n",
       "4  Robert Canterbury                        Aims Inc                aims1.com   \n",
       "\n",
       "                          Industry                Job Title  \\\n",
       "0                    Manufacturing                President   \n",
       "1  Medical Equipment Manufacturing  Chief Executive Officer   \n",
       "2                           Retail                President   \n",
       "3           Biotechnology Research                President   \n",
       "4             Software Development                President   \n",
       "\n",
       "                                 Email  \\\n",
       "0       leannew@21stcenturyvitaminscom   \n",
       "1  ronplantz@authorizedacquisitionscom   \n",
       "2           aniedi@adamedicalsupplycom   \n",
       "3               rafael@advancedinstcom   \n",
       "4                 rcanterbury@aims1com   \n",
       "\n",
       "                                        Linkedin URL      processed job_title  \\\n",
       "0  https://wwwlinkedincom/in/leannewilhardt94513b15/                president   \n",
       "1       https://wwwlinkedincom/in/ronplantz9a394319/  chief executive officer   \n",
       "2     https://wwwlinkedincom/in/aniedijames054a9585/                president   \n",
       "3    https://wwwlinkedincom/in/rafaelcellia97058163/                president   \n",
       "4    https://wwwlinkedincom/in/robertcanterburyaims/                president   \n",
       "\n",
       "          processed Company_name          processed Industry_name  \\\n",
       "0    21st century healthcare inc                    manufacturing   \n",
       "1               aa medical store  medical equipment manufacturing   \n",
       "2         ada med supply limited                           retail   \n",
       "3  advanced instrumentations inc           biotechnology research   \n",
       "4                       aims inc             software development   \n",
       "\n",
       "      processed Name                         job_title_feature_encoding  \\\n",
       "0    leanne wilhardt  [-0.53009087, 0.36041957, -0.10122657, 0.05373...   \n",
       "1         ron plantz  [-0.5166925, 0.13698275, -0.21617708, 0.091861...   \n",
       "2       aniedi james  [-0.53009087, 0.36041957, -0.10122657, 0.05373...   \n",
       "3       rafael celli  [-0.53009087, 0.36041957, -0.10122657, 0.05373...   \n",
       "4  robert canterbury  [-0.53009087, 0.36041957, -0.10122657, 0.05373...   \n",
       "\n",
       "                           Industry_feature_encoding  \\\n",
       "0  [-0.44714177, 0.2072348, -0.2586438, -0.258063...   \n",
       "1  [-0.2998284, 0.18884052, -1.0831927, -0.320566...   \n",
       "2  [-0.2644915, 0.020314414, -0.23779479, -0.3004...   \n",
       "3  [0.025510872, 0.105550475, -0.8422301, -0.0477...   \n",
       "4  [-0.11512597, 0.1682517, -0.6216314, 0.0423190...   \n",
       "\n",
       "                                 combined_embeddings lead_type  lead_label  \n",
       "0  (tf.Tensor(-0.53009087, shape=(), dtype=float3...      Cold           0  \n",
       "1  (tf.Tensor(-0.5166925, shape=(), dtype=float32...      Cold           0  \n",
       "2  (tf.Tensor(-0.53009087, shape=(), dtype=float3...      Cold           0  \n",
       "3  (tf.Tensor(-0.53009087, shape=(), dtype=float3...      Cold           0  \n",
       "4  (tf.Tensor(-0.53009087, shape=(), dtype=float3...       Hot           2  "
      ]
     },
     "execution_count": 39,
     "metadata": {},
     "output_type": "execute_result"
    }
   ],
   "source": [
    "df_spacy.head()"
   ]
  },
  {
   "cell_type": "code",
   "execution_count": 40,
   "metadata": {},
   "outputs": [
    {
     "data": {
      "text/html": [
       "<div>\n",
       "<style scoped>\n",
       "    .dataframe tbody tr th:only-of-type {\n",
       "        vertical-align: middle;\n",
       "    }\n",
       "\n",
       "    .dataframe tbody tr th {\n",
       "        vertical-align: top;\n",
       "    }\n",
       "\n",
       "    .dataframe thead th {\n",
       "        text-align: right;\n",
       "    }\n",
       "</style>\n",
       "<table border=\"1\" class=\"dataframe\">\n",
       "  <thead>\n",
       "    <tr style=\"text-align: right;\">\n",
       "      <th></th>\n",
       "      <th>Job Title</th>\n",
       "      <th>Industry</th>\n",
       "      <th>lead_type</th>\n",
       "    </tr>\n",
       "  </thead>\n",
       "  <tbody>\n",
       "    <tr>\n",
       "      <th>0</th>\n",
       "      <td>President</td>\n",
       "      <td>Manufacturing</td>\n",
       "      <td>Cold</td>\n",
       "    </tr>\n",
       "    <tr>\n",
       "      <th>1</th>\n",
       "      <td>Chief Executive Officer</td>\n",
       "      <td>Medical Equipment Manufacturing</td>\n",
       "      <td>Cold</td>\n",
       "    </tr>\n",
       "    <tr>\n",
       "      <th>2</th>\n",
       "      <td>President</td>\n",
       "      <td>Retail</td>\n",
       "      <td>Cold</td>\n",
       "    </tr>\n",
       "    <tr>\n",
       "      <th>3</th>\n",
       "      <td>President</td>\n",
       "      <td>Biotechnology Research</td>\n",
       "      <td>Cold</td>\n",
       "    </tr>\n",
       "    <tr>\n",
       "      <th>4</th>\n",
       "      <td>President</td>\n",
       "      <td>Software Development</td>\n",
       "      <td>Hot</td>\n",
       "    </tr>\n",
       "  </tbody>\n",
       "</table>\n",
       "</div>"
      ],
      "text/plain": [
       "                 Job Title                         Industry lead_type\n",
       "0                President                    Manufacturing      Cold\n",
       "1  Chief Executive Officer  Medical Equipment Manufacturing      Cold\n",
       "2                President                           Retail      Cold\n",
       "3                President           Biotechnology Research      Cold\n",
       "4                President             Software Development       Hot"
      ]
     },
     "execution_count": 40,
     "metadata": {},
     "output_type": "execute_result"
    }
   ],
   "source": [
    "df_spacy[['Job Title', 'Industry', 'lead_type']].head()\n"
   ]
  },
  {
   "cell_type": "code",
   "execution_count": 41,
   "metadata": {},
   "outputs": [],
   "source": [
    "X = np.array([x for x in df_spacy['combined_embeddings']])\n",
    "y = df_spacy['lead_label']"
   ]
  },
  {
   "cell_type": "markdown",
   "metadata": {},
   "source": [
    "Splitting the data for feeding it to the model"
   ]
  },
  {
   "cell_type": "code",
   "execution_count": 42,
   "metadata": {},
   "outputs": [],
   "source": [
    "# X: Features (e.g., combined embeddings)\n",
    "# y: Labels (e.g., lead categories)\n",
    "\n",
    "# Split the data into training and testing sets\n",
    "X_train, X_test, y_train, y_test = train_test_split(X, y, test_size=0.2, random_state=42)\n",
    "\n"
   ]
  },
  {
   "cell_type": "markdown",
   "metadata": {},
   "source": [
    "Training the model"
   ]
  },
  {
   "cell_type": "code",
   "execution_count": 43,
   "metadata": {},
   "outputs": [
    {
     "name": "stdout",
     "output_type": "stream",
     "text": [
      "Epoch 1/10\n",
      "\u001b[1m2/2\u001b[0m \u001b[32m━━━━━━━━━━━━━━━━━━━━\u001b[0m\u001b[37m\u001b[0m \u001b[1m10s\u001b[0m 1s/step - accuracy: 0.5000 - loss: 8.5591 - val_accuracy: 0.7500 - val_loss: 9.0550\n",
      "Epoch 2/10\n",
      "\u001b[1m2/2\u001b[0m \u001b[32m━━━━━━━━━━━━━━━━━━━━\u001b[0m\u001b[37m\u001b[0m \u001b[1m0s\u001b[0m 101ms/step - accuracy: 0.8750 - loss: 7.9694 - val_accuracy: 0.7500 - val_loss: 8.0615\n",
      "Epoch 3/10\n",
      "\u001b[1m2/2\u001b[0m \u001b[32m━━━━━━━━━━━━━━━━━━━━\u001b[0m\u001b[37m\u001b[0m \u001b[1m0s\u001b[0m 176ms/step - accuracy: 0.8646 - loss: 7.3497 - val_accuracy: 0.7500 - val_loss: 6.7968\n",
      "Epoch 4/10\n",
      "\u001b[1m2/2\u001b[0m \u001b[32m━━━━━━━━━━━━━━━━━━━━\u001b[0m\u001b[37m\u001b[0m \u001b[1m0s\u001b[0m 96ms/step - accuracy: 0.8646 - loss: 6.7085 - val_accuracy: 0.8750 - val_loss: 6.2876\n",
      "Epoch 5/10\n",
      "\u001b[1m2/2\u001b[0m \u001b[32m━━━━━━━━━━━━━━━━━━━━\u001b[0m\u001b[37m\u001b[0m \u001b[1m0s\u001b[0m 97ms/step - accuracy: 0.9167 - loss: 6.2271 - val_accuracy: 0.7500 - val_loss: 6.0901\n",
      "Epoch 6/10\n",
      "\u001b[1m2/2\u001b[0m \u001b[32m━━━━━━━━━━━━━━━━━━━━\u001b[0m\u001b[37m\u001b[0m \u001b[1m0s\u001b[0m 224ms/step - accuracy: 0.9062 - loss: 5.7131 - val_accuracy: 0.7500 - val_loss: 5.8098\n",
      "Epoch 7/10\n",
      "\u001b[1m2/2\u001b[0m \u001b[32m━━━━━━━━━━━━━━━━━━━━\u001b[0m\u001b[37m\u001b[0m \u001b[1m0s\u001b[0m 178ms/step - accuracy: 0.8750 - loss: 5.3325 - val_accuracy: 0.8750 - val_loss: 5.3218\n",
      "Epoch 8/10\n",
      "\u001b[1m2/2\u001b[0m \u001b[32m━━━━━━━━━━━━━━━━━━━━\u001b[0m\u001b[37m\u001b[0m \u001b[1m0s\u001b[0m 147ms/step - accuracy: 0.9688 - loss: 4.8720 - val_accuracy: 0.8750 - val_loss: 4.8608\n",
      "Epoch 9/10\n",
      "\u001b[1m2/2\u001b[0m \u001b[32m━━━━━━━━━━━━━━━━━━━━\u001b[0m\u001b[37m\u001b[0m \u001b[1m0s\u001b[0m 115ms/step - accuracy: 0.9479 - loss: 4.5603 - val_accuracy: 0.8750 - val_loss: 4.5449\n",
      "Epoch 10/10\n",
      "\u001b[1m2/2\u001b[0m \u001b[32m━━━━━━━━━━━━━━━━━━━━\u001b[0m\u001b[37m\u001b[0m \u001b[1m0s\u001b[0m 228ms/step - accuracy: 0.9479 - loss: 4.1996 - val_accuracy: 0.8750 - val_loss: 4.2682\n"
     ]
    }
   ],
   "source": [
    "early_stopping = EarlyStopping(monitor='val_loss', patience=3, restore_best_weights=True)\n",
    "history = model.fit(X_train, y_train, epochs=10, batch_size=32, validation_split=0.2,callbacks=[early_stopping])"
   ]
  },
  {
   "cell_type": "code",
   "execution_count": 44,
   "metadata": {},
   "outputs": [
    {
     "name": "stdout",
     "output_type": "stream",
     "text": [
      "\u001b[1m1/1\u001b[0m \u001b[32m━━━━━━━━━━━━━━━━━━━━\u001b[0m\u001b[37m\u001b[0m \u001b[1m0s\u001b[0m 128ms/step - accuracy: 0.9048 - loss: 4.2590\n",
      "Test accuracy: 0.9047619104385376, Test loss: 4.259033203125\n"
     ]
    }
   ],
   "source": [
    "test_loss, test_accuracy = model.evaluate(X_test, y_test)\n",
    "print(f'Test accuracy: {test_accuracy}, Test loss: {test_loss}')\n"
   ]
  },
  {
   "cell_type": "markdown",
   "metadata": {},
   "source": [
    "### Plotting the Data"
   ]
  },
  {
   "cell_type": "code",
   "execution_count": 45,
   "metadata": {},
   "outputs": [
    {
     "data": {
      "image/png": "[encoded data removed]",
      "text/plain": [
       "<Figure size 640x480 with 1 Axes>"
      ]
     },
     "metadata": {},
     "output_type": "display_data"
    },
    {
     "data": {
      "image/png": "[encoded data removed]",
      "text/plain": [
       "<Figure size 640x480 with 1 Axes>"
      ]
     },
     "metadata": {},
     "output_type": "display_data"
    }
   ],
   "source": [
    "# Accessing history data\n",
    "history.history.keys()  # This shows the metrics recorded, such as 'loss', 'accuracy', 'val_loss', 'val_accuracy'\n",
    "\n",
    "# Plotting loss\n",
    "plt.plot(history.history['loss'], label='Training Loss')\n",
    "plt.plot(history.history['val_loss'], label='Validation Loss')\n",
    "plt.title('Loss over Epochs')\n",
    "plt.xlabel('Epochs')\n",
    "plt.ylabel('Loss')\n",
    "plt.legend()\n",
    "plt.show()\n",
    "\n",
    "# Plotting accuracy\n",
    "plt.plot(history.history['accuracy'], label='Training Accuracy')\n",
    "plt.plot(history.history['val_accuracy'], label='Validation Accuracy')\n",
    "plt.title('Accuracy over Epochs')\n",
    "plt.xlabel('Epochs')\n",
    "plt.ylabel('Accuracy')\n",
    "plt.legend()\n",
    "plt.show()\n"
   ]
  },
  {
   "cell_type": "code",
   "execution_count": 46,
   "metadata": {},
   "outputs": [
    {
     "name": "stdout",
     "output_type": "stream",
     "text": [
      "\u001b[1m1/1\u001b[0m \u001b[32m━━━━━━━━━━━━━━━━━━━━\u001b[0m\u001b[37m\u001b[0m \u001b[1m0s\u001b[0m 197ms/step\n"
     ]
    },
    {
     "data": {
      "image/png": "[encoded data removed]",
      "text/plain": [
       "<Figure size 800x600 with 2 Axes>"
      ]
     },
     "metadata": {},
     "output_type": "display_data"
    }
   ],
   "source": [
    "from sklearn.metrics import confusion_matrix\n",
    "\n",
    "# Get the predicted classes\n",
    "y_pred = model.predict(X_test).argmax(axis=1)\n",
    "\n",
    "# Confusion matrix\n",
    "conf_matrix = confusion_matrix(y_test, y_pred)\n",
    "\n",
    "# Plot the confusion matrix\n",
    "plt.figure(figsize=(8, 6))\n",
    "sns.heatmap(conf_matrix, annot=True, fmt='d', cmap='Blues', xticklabels=['Cold', 'Warm', 'Hot'], yticklabels=['Cold', 'Warm', 'Hot'])\n",
    "plt.ylabel('Actual')\n",
    "plt.xlabel('Predicted')\n",
    "plt.title('Confusion Matrix')\n",
    "plt.show()\n"
   ]
  },
  {
   "cell_type": "code",
   "execution_count": 47,
   "metadata": {},
   "outputs": [
    {
     "data": {
      "text/plain": [
       "lead_label\n",
       "0    18\n",
       "2     2\n",
       "1     1\n",
       "Name: count, dtype: int64"
      ]
     },
     "execution_count": 47,
     "metadata": {},
     "output_type": "execute_result"
    }
   ],
   "source": [
    "y_test.value_counts()"
   ]
  },
  {
   "cell_type": "code",
   "execution_count": 48,
   "metadata": {},
   "outputs": [
    {
     "name": "stdout",
     "output_type": "stream",
     "text": [
      "1/1 - 0s - 128ms/step - accuracy: 0.9048 - loss: 4.2590\n",
      "Test Loss: 4.259033203125\n",
      "Test Accuracy: 0.9047619104385376\n"
     ]
    }
   ],
   "source": [
    "# Evaluate the model on test data\n",
    "test_loss, test_accuracy = model.evaluate(X_test, y_test, verbose=2)\n",
    "\n",
    "print(f\"Test Loss: {test_loss}\")\n",
    "print(f\"Test Accuracy: {test_accuracy}\")\n",
    "\n"
   ]
  },
  {
   "cell_type": "code",
   "execution_count": 49,
   "metadata": {},
   "outputs": [],
   "source": [
    "var = df_spacy[\"combined_embeddings\"][85]"
   ]
  },
  {
   "cell_type": "code",
   "execution_count": 50,
   "metadata": {},
   "outputs": [
    {
     "name": "stdout",
     "output_type": "stream",
     "text": [
      "\u001b[1m1/1\u001b[0m \u001b[32m━━━━━━━━━━━━━━━━━━━━\u001b[0m\u001b[37m\u001b[0m \u001b[1m0s\u001b[0m 322ms/step\n",
      "[[0.6111497  0.22780168 0.16104859]]\n"
     ]
    }
   ],
   "source": [
    "x = np.array(var)  # Ensure x is a numpy array\n",
    "\n",
    "# Reshape x to have a batch dimension\n",
    "x = x.reshape(1, -1)  # Shape should be (1, feature_dim)\n",
    "\n",
    "# Make prediction\n",
    "print(model.predict(x))"
   ]
  },
  {
   "cell_type": "code",
   "execution_count": 51,
   "metadata": {},
   "outputs": [
    {
     "data": {
      "text/plain": [
       "Name                                                                     John H\n",
       "Company                                                     Gojo Industries Inc\n",
       "Website                                                                gojo.com\n",
       "Industry                                                          Manufacturing\n",
       "Job Title                                                                 Owner\n",
       "Email                                                    johnahiggins3@gmailcom\n",
       "Linkedin URL                  https://linkedincom/in/ACwAAAGHPXUBC7FbRdWTSLI...\n",
       "processed job_title                                                       owner\n",
       "processed Company_name                                      gojo industries inc\n",
       "processed Industry_name                                           manufacturing\n",
       "processed Name                                                           john h\n",
       "job_title_feature_encoding    [-0.57602787, 0.034962088, -0.22704677, -0.387...\n",
       "Industry_feature_encoding     [-0.44714177, 0.2072348, -0.2586438, -0.258063...\n",
       "combined_embeddings           (tf.Tensor(-0.57602787, shape=(), dtype=float3...\n",
       "lead_type                                                                  Warm\n",
       "lead_label                                                                    1\n",
       "Name: 85, dtype: object"
      ]
     },
     "execution_count": 51,
     "metadata": {},
     "output_type": "execute_result"
    }
   ],
   "source": [
    "df_spacy.iloc[85]"
   ]
  },
  {
   "cell_type": "code",
   "execution_count": 52,
   "metadata": {},
   "outputs": [
    {
     "data": {
      "text/html": [
       "<div>\n",
       "<style scoped>\n",
       "    .dataframe tbody tr th:only-of-type {\n",
       "        vertical-align: middle;\n",
       "    }\n",
       "\n",
       "    .dataframe tbody tr th {\n",
       "        vertical-align: top;\n",
       "    }\n",
       "\n",
       "    .dataframe thead th {\n",
       "        text-align: right;\n",
       "    }\n",
       "</style>\n",
       "<table border=\"1\" class=\"dataframe\">\n",
       "  <thead>\n",
       "    <tr style=\"text-align: right;\">\n",
       "      <th></th>\n",
       "      <th>Name</th>\n",
       "      <th>Company</th>\n",
       "      <th>Website</th>\n",
       "      <th>Industry</th>\n",
       "      <th>Job Title</th>\n",
       "      <th>Email</th>\n",
       "      <th>Linkedin URL</th>\n",
       "      <th>processed job_title</th>\n",
       "      <th>processed Company_name</th>\n",
       "      <th>processed Industry_name</th>\n",
       "      <th>processed Name</th>\n",
       "      <th>job_title_feature_encoding</th>\n",
       "      <th>Industry_feature_encoding</th>\n",
       "      <th>combined_embeddings</th>\n",
       "      <th>lead_type</th>\n",
       "      <th>lead_label</th>\n",
       "    </tr>\n",
       "  </thead>\n",
       "  <tbody>\n",
       "    <tr>\n",
       "      <th>31</th>\n",
       "      <td>Mohamed Fajr</td>\n",
       "      <td>Aug Medical Llc</td>\n",
       "      <td>augmedical.com</td>\n",
       "      <td>Hospitals And Health Care</td>\n",
       "      <td>Executive Director</td>\n",
       "      <td>info@augmedicalcom</td>\n",
       "      <td>https://wwwlinkedincom/in/mohamedfajr/</td>\n",
       "      <td>executive director</td>\n",
       "      <td>aug medical llc</td>\n",
       "      <td>hospitals and health care</td>\n",
       "      <td>mohamed fajr</td>\n",
       "      <td>[-0.608385, 0.14635035, -0.18327036, 0.0466570...</td>\n",
       "      <td>[0.18886527, 0.0853319, -0.13914324, 0.1031988...</td>\n",
       "      <td>(tf.Tensor(-0.608385, shape=(), dtype=float32)...</td>\n",
       "      <td>Warm</td>\n",
       "      <td>1</td>\n",
       "    </tr>\n",
       "    <tr>\n",
       "      <th>85</th>\n",
       "      <td>John H</td>\n",
       "      <td>Gojo Industries Inc</td>\n",
       "      <td>gojo.com</td>\n",
       "      <td>Manufacturing</td>\n",
       "      <td>Owner</td>\n",
       "      <td>johnahiggins3@gmailcom</td>\n",
       "      <td>https://linkedincom/in/ACwAAAGHPXUBC7FbRdWTSLI...</td>\n",
       "      <td>owner</td>\n",
       "      <td>gojo industries inc</td>\n",
       "      <td>manufacturing</td>\n",
       "      <td>john h</td>\n",
       "      <td>[-0.57602787, 0.034962088, -0.22704677, -0.387...</td>\n",
       "      <td>[-0.44714177, 0.2072348, -0.2586438, -0.258063...</td>\n",
       "      <td>(tf.Tensor(-0.57602787, shape=(), dtype=float3...</td>\n",
       "      <td>Warm</td>\n",
       "      <td>1</td>\n",
       "    </tr>\n",
       "  </tbody>\n",
       "</table>\n",
       "</div>"
      ],
      "text/plain": [
       "            Name              Company         Website  \\\n",
       "31  Mohamed Fajr      Aug Medical Llc  augmedical.com   \n",
       "85        John H  Gojo Industries Inc        gojo.com   \n",
       "\n",
       "                     Industry           Job Title                   Email  \\\n",
       "31  Hospitals And Health Care  Executive Director      info@augmedicalcom   \n",
       "85              Manufacturing               Owner  johnahiggins3@gmailcom   \n",
       "\n",
       "                                         Linkedin URL processed job_title  \\\n",
       "31             https://wwwlinkedincom/in/mohamedfajr/  executive director   \n",
       "85  https://linkedincom/in/ACwAAAGHPXUBC7FbRdWTSLI...               owner   \n",
       "\n",
       "   processed Company_name    processed Industry_name processed Name  \\\n",
       "31        aug medical llc  hospitals and health care   mohamed fajr   \n",
       "85    gojo industries inc              manufacturing         john h   \n",
       "\n",
       "                           job_title_feature_encoding  \\\n",
       "31  [-0.608385, 0.14635035, -0.18327036, 0.0466570...   \n",
       "85  [-0.57602787, 0.034962088, -0.22704677, -0.387...   \n",
       "\n",
       "                            Industry_feature_encoding  \\\n",
       "31  [0.18886527, 0.0853319, -0.13914324, 0.1031988...   \n",
       "85  [-0.44714177, 0.2072348, -0.2586438, -0.258063...   \n",
       "\n",
       "                                  combined_embeddings lead_type  lead_label  \n",
       "31  (tf.Tensor(-0.608385, shape=(), dtype=float32)...      Warm           1  \n",
       "85  (tf.Tensor(-0.57602787, shape=(), dtype=float3...      Warm           1  "
      ]
     },
     "execution_count": 52,
     "metadata": {},
     "output_type": "execute_result"
    }
   ],
   "source": [
    "rslt_df = df_spacy.loc[df_spacy['lead_label'] == 1]\n",
    "rslt_df"
   ]
  },
  {
   "cell_type": "markdown",
   "metadata": {},
   "source": [
    "Checking for class imbalance over unsatisfactory results"
   ]
  },
  {
   "cell_type": "code",
   "execution_count": 53,
   "metadata": {},
   "outputs": [
    {
     "name": "stdout",
     "output_type": "stream",
     "text": [
      "Counter({0: 86, 2: 13, 1: 2})\n"
     ]
    }
   ],
   "source": [
    "from collections import Counter\n",
    "print(Counter(y))\n"
   ]
  },
  {
   "cell_type": "markdown",
   "metadata": {},
   "source": [
    "### Trying to Balance the data to address the issues"
   ]
  },
  {
   "cell_type": "code",
   "execution_count": 54,
   "metadata": {},
   "outputs": [
    {
     "name": "stdout",
     "output_type": "stream",
     "text": [
      "Original dataset shape: (80, 1536)\n",
      "Resampled dataset shape: (258, 1536)\n"
     ]
    }
   ],
   "source": [
    "# Initialize SMOTE for oversampling\n",
    "smote = SMOTE(random_state=42, k_neighbors=1)  # Set k_neighbors based on your class size\n",
    "\n",
    "# Apply SMOTE to the training data (ensure labels are not one-hot encoded)\n",
    "X_train_resampled, y_train_resampled = smote.fit_resample(X, y)\n",
    "\n",
    "print(f\"Original dataset shape: {X_train.shape}\")\n",
    "print(f\"Resampled dataset shape: {X_train_resampled.shape}\")"
   ]
  },
  {
   "cell_type": "code",
   "execution_count": 55,
   "metadata": {},
   "outputs": [],
   "source": [
    "X_train_resampled, X_test_resampled, y_train_resampled, y_test_resampled = train_test_split(X_train_resampled, y_train_resampled, test_size=0.2, random_state=42)"
   ]
  },
  {
   "cell_type": "code",
   "execution_count": 56,
   "metadata": {},
   "outputs": [
    {
     "name": "stdout",
     "output_type": "stream",
     "text": [
      "Epoch 1/10\n",
      "\u001b[1m6/6\u001b[0m \u001b[32m━━━━━━━━━━━━━━━━━━━━\u001b[0m\u001b[37m\u001b[0m \u001b[1m5s\u001b[0m 103ms/step - accuracy: 0.6061 - loss: 4.7915 - val_accuracy: 0.7143 - val_loss: 3.6534\n",
      "Epoch 2/10\n",
      "\u001b[1m6/6\u001b[0m \u001b[32m━━━━━━━━━━━━━━━━━━━━\u001b[0m\u001b[37m\u001b[0m \u001b[1m1s\u001b[0m 86ms/step - accuracy: 0.6853 - loss: 3.5399 - val_accuracy: 0.9762 - val_loss: 2.7465\n",
      "Epoch 3/10\n",
      "\u001b[1m6/6\u001b[0m \u001b[32m━━━━━━━━━━━━━━━━━━━━\u001b[0m\u001b[37m\u001b[0m \u001b[1m1s\u001b[0m 71ms/step - accuracy: 0.8901 - loss: 2.6967 - val_accuracy: 0.9762 - val_loss: 2.2058\n",
      "Epoch 4/10\n",
      "\u001b[1m6/6\u001b[0m \u001b[32m━━━━━━━━━━━━━━━━━━━━\u001b[0m\u001b[37m\u001b[0m \u001b[1m0s\u001b[0m 56ms/step - accuracy: 0.9077 - loss: 2.2566 - val_accuracy: 0.9762 - val_loss: 1.8767\n",
      "Epoch 5/10\n",
      "\u001b[1m6/6\u001b[0m \u001b[32m━━━━━━━━━━━━━━━━━━━━\u001b[0m\u001b[37m\u001b[0m \u001b[1m1s\u001b[0m 85ms/step - accuracy: 0.9581 - loss: 1.8284 - val_accuracy: 1.0000 - val_loss: 1.5351\n",
      "Epoch 6/10\n",
      "\u001b[1m6/6\u001b[0m \u001b[32m━━━━━━━━━━━━━━━━━━━━\u001b[0m\u001b[37m\u001b[0m \u001b[1m0s\u001b[0m 56ms/step - accuracy: 0.9675 - loss: 1.5624 - val_accuracy: 0.9762 - val_loss: 1.3681\n",
      "Epoch 7/10\n",
      "\u001b[1m6/6\u001b[0m \u001b[32m━━━━━━━━━━━━━━━━━━━━\u001b[0m\u001b[37m\u001b[0m \u001b[1m1s\u001b[0m 93ms/step - accuracy: 0.9425 - loss: 1.3908 - val_accuracy: 1.0000 - val_loss: 1.1416\n",
      "Epoch 8/10\n",
      "\u001b[1m6/6\u001b[0m \u001b[32m━━━━━━━━━━━━━━━━━━━━\u001b[0m\u001b[37m\u001b[0m \u001b[1m1s\u001b[0m 72ms/step - accuracy: 0.9828 - loss: 1.1623 - val_accuracy: 0.9762 - val_loss: 1.0405\n",
      "Epoch 9/10\n",
      "\u001b[1m6/6\u001b[0m \u001b[32m━━━━━━━━━━━━━━━━━━━━\u001b[0m\u001b[37m\u001b[0m \u001b[1m1s\u001b[0m 52ms/step - accuracy: 0.9776 - loss: 1.0373 - val_accuracy: 1.0000 - val_loss: 0.8864\n",
      "Epoch 10/10\n",
      "\u001b[1m6/6\u001b[0m \u001b[32m━━━━━━━━━━━━━━━━━━━━\u001b[0m\u001b[37m\u001b[0m \u001b[1m1s\u001b[0m 57ms/step - accuracy: 0.9787 - loss: 0.9106 - val_accuracy: 0.9762 - val_loss: 0.8353\n"
     ]
    }
   ],
   "source": [
    "early_stopping = EarlyStopping(monitor='val_loss', patience=3, restore_best_weights=True)\n",
    "history = model.fit(X_train_resampled, y_train_resampled, epochs=10, batch_size=32, validation_split=0.2,callbacks=[early_stopping])"
   ]
  },
  {
   "cell_type": "code",
   "execution_count": 57,
   "metadata": {},
   "outputs": [],
   "source": [
    "var = df_spacy[\"combined_embeddings\"][31]"
   ]
  },
  {
   "cell_type": "code",
   "execution_count": 58,
   "metadata": {},
   "outputs": [
    {
     "name": "stdout",
     "output_type": "stream",
     "text": [
      "\u001b[1m1/1\u001b[0m \u001b[32m━━━━━━━━━━━━━━━━━━━━\u001b[0m\u001b[37m\u001b[0m \u001b[1m0s\u001b[0m 164ms/step\n",
      "22.74%\n",
      "77.26%\n",
      "0.00%\n"
     ]
    }
   ],
   "source": [
    "x = np.array(var)  # Ensure x is a numpy array\n",
    "\n",
    "# Reshape x to have a batch dimension\n",
    "x = x.reshape(1, -1)  # Shape should be (1, feature_dim)\n",
    "\n",
    "res = model.predict(x)\n",
    "# Make prediction\n",
    "\n",
    "for element in res.flatten():\n",
    "    print(f\"{float(element):.2%}\")\n",
    "\n"
   ]
  },
  {
   "cell_type": "code",
   "execution_count": 59,
   "metadata": {},
   "outputs": [
    {
     "data": {
      "text/plain": [
       "1"
      ]
     },
     "execution_count": 59,
     "metadata": {},
     "output_type": "execute_result"
    }
   ],
   "source": [
    "df_spacy[\"lead_label\"][31]"
   ]
  },
  {
   "cell_type": "code",
   "execution_count": null,
   "metadata": {},
   "outputs": [],
   "source": [
    "# Evaluate the model on test data\n",
    "test_loss, test_accuracy = model.evaluate(X_test_resampled, y_test_resampled, verbose=2)\n",
    "\n",
    "print(f\"Test Loss: {test_loss}\")\n",
    "print(f\"Test Accuracy: {test_accuracy}\")\n"
   ]
  },
  {
   "cell_type": "markdown",
   "metadata": {},
   "source": [
    "### Summarizing the Results\n",
    "\n",
    "The embeddings are taken from the pre-trained transformer and fed to a feed forward neural network for classifying the leads.\n",
    "The preprocessing was done using spaCy, the model trained and results were studied. Hyperparameter tuning was done to get better results. On unsatisfactory results post hyperparameter tuning the dataset was looked up on again for class imbalance. SMOTE Method was applied and then the model was trained again which yielded better results"
   ]
  },
  {
   "cell_type": "markdown",
   "metadata": {},
   "source": [
    "Furthermore, the complete classification by fine tuning the pre-trained transformers has been made in approach 2."
   ]
  }
 ],
 "metadata": {
  "kernelspec": {
   "display_name": "my_env",
   "language": "python",
   "name": "python3"
  },
  "language_info": {
   "codemirror_mode": {
    "name": "ipython",
    "version": 3
   },
   "file_extension": ".py",
   "mimetype": "text/x-python",
   "name": "python",
   "nbconvert_exporter": "python",
   "pygments_lexer": "ipython3",
   "version": "3.12.4"
  }
 },
 "nbformat": 4,
 "nbformat_minor": 2
}
